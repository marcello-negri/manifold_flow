{
 "cells": [
  {
   "cell_type": "code",
   "execution_count": 327,
   "outputs": [],
   "source": [
    "import matplotlib.pyplot as plt\n",
    "import numpy as np\n",
    "import torch\n",
    "import time\n",
    "from datetime import timedelta\n",
    "\n",
    "import tqdm\n",
    "from enflows.distributions import StandardNormal, Uniform, DiagonalNormal, MADEMoG, MOG\n",
    "from enflows.transforms import Sigmoid, ScalarScale, ScalarShift, RandomPermutation, MaskedSumOfSigmoidsTransform, ConditionalSumOfSigmoidsTransform\n",
    "from enflows.transforms.normalization import ActNorm\n",
    "from enflows.transforms.base import CompositeTransform, InverseTransform\n",
    "from enflows.transforms.lipschitz import LipschitzDenseNetBuilder, iResBlock\n",
    "from enflows.nn.nets.activations import Sin\n",
    "from enflows.nn.nets import ResidualNet\n",
    "from enflows.flows.base import Flow\n",
    "from enflows.transforms.injective import FixedNorm, ConstrainedAnglesSigmoid, ClampedAngles"
   ],
   "metadata": {
    "collapsed": false,
    "ExecuteTime": {
     "end_time": "2023-09-05T14:13:49.126395486Z",
     "start_time": "2023-09-05T14:13:47.458380375Z"
    }
   }
  },
  {
   "cell_type": "code",
   "execution_count": 328,
   "outputs": [
    {
     "name": "stdout",
     "output_type": "stream",
     "text": [
      "The autoreload extension is already loaded. To reload it, use:\n",
      "  %reload_ext autoreload\n"
     ]
    }
   ],
   "source": [
    "%load_ext autoreload\n",
    "%autoreload 2"
   ],
   "metadata": {
    "collapsed": false,
    "ExecuteTime": {
     "end_time": "2023-09-05T14:13:49.186793002Z",
     "start_time": "2023-09-05T14:13:49.129672041Z"
    }
   }
  },
  {
   "cell_type": "code",
   "execution_count": 329,
   "outputs": [],
   "source": [
    "def set_random_seeds (seed=1234):\n",
    "    np.random.seed(seed)\n",
    "    torch.manual_seed(seed)\n",
    "\n",
    "def uniform_p_norm (beta):\n",
    "    return torch.ones_like(beta)"
   ],
   "metadata": {
    "collapsed": false,
    "ExecuteTime": {
     "end_time": "2023-09-05T14:13:49.232484225Z",
     "start_time": "2023-09-05T14:13:49.182752524Z"
    }
   }
  },
  {
   "cell_type": "code",
   "execution_count": 330,
   "outputs": [],
   "source": [
    "def spherical_to_cartesian_torch(arr):\n",
    "    # meant for batches of vectors, i.e. arr.shape = (mb, n)\n",
    "    \n",
    "    assert arr.shape[1] >= 2\n",
    "    r = arr[:, :1]\n",
    "    angles = arr[:, 1:]\n",
    "    \n",
    "    sin_prods = torch.cumprod(torch.sin(angles), dim=1)\n",
    "    x1 = r * torch.cos(angles[:, :1])\n",
    "    xs = r * sin_prods[:, :-1] * torch.cos(angles[:, 1:])\n",
    "    xn = r * sin_prods[:, -1:]\n",
    "\n",
    "    return torch.cat((x1, xs, xn), dim=1)\n",
    "\n",
    "def cartesian_to_spherical_torch(arr):\n",
    "    # meant for batches of vectors, i.e. arr.shape = (mb, n)\n",
    "    eps = 1e-5\n",
    "    assert arr.shape[-1] >= 2\n",
    "    radius = torch.linalg.norm(arr, dim=-1)\n",
    "    flipped_cumsum = torch.cumsum(torch.flip(arr ** 2, dims=(-1,)), dim=-1)\n",
    "    sqrt_sums = torch.flip(torch.sqrt(flipped_cumsum + eps), dims=(-1,))[...,:-1]\n",
    "    angles = torch.acos(arr[..., :-1] / (sqrt_sums + eps))\n",
    "    last_angle = ((arr[...,-1] >= 0).float() * angles[..., -1] + \\\n",
    "                (arr[...,-1] < 0).float() * (2 * np.pi - angles[..., -1]))\n",
    "\n",
    "    return torch.cat((radius.unsqueeze(-1), angles[..., :-1], last_angle.unsqueeze(-1)), dim=-1)\n"
   ],
   "metadata": {
    "collapsed": false,
    "ExecuteTime": {
     "end_time": "2023-09-05T14:13:49.276174306Z",
     "start_time": "2023-09-05T14:13:49.237632424Z"
    }
   }
  },
  {
   "cell_type": "code",
   "execution_count": 480,
   "outputs": [],
   "source": [
    "# def log_prior_angles (beta:torch.Tensor, sigma:torch.Tensor):\n",
    "#     eps = 1e-7\n",
    "#     beta_spherical = cartesian_to_spherical_torch(beta)[...,1:]\n",
    "#     theta_0_pi = (beta_spherical).square().sum(-1) / (sigma**2 + eps)\n",
    "#     theta_pi__2 = (beta_spherical - 0.5 * np.pi).square().sum(-1) / (sigma**2 + eps)\n",
    "#     theta_pi = (beta_spherical - np.pi).square().sum(-1) / (sigma**2 + eps)\n",
    "# \n",
    "#     # theta_3_pi__2 = (beta_spherical[...,-1:] - 1.5 * np.pi).square().sum(-1) / (sigma**2 + eps)\n",
    "#     # theta_2_pi = (beta_spherical[...,-1:] - 2 * np.pi).square().sum(-1) / (sigma**2 + eps)\n",
    "# \n",
    "#     # prior_theta = - 0.5 * (theta_0_pi + theta_pi__2 + theta_pi)# + theta_3_pi__2 + theta_2_pi)\n",
    "#     prior_theta = - 0.5 * (theta_0_pi + theta_pi)# + theta_3_pi__2 + theta_2_pi)\n",
    "# \n",
    "#     return prior_theta\n",
    "\n",
    "def log_prior_angles (beta:torch.Tensor, sigma:torch.Tensor):\n",
    "    beta_spherical = cartesian_to_spherical_torch(beta)[...,1:]\n",
    "    exp = []\n",
    "    # angles = [0., 0.5 * np.pi, np.pi]\n",
    "    angles = [0., 0.5*np.pi, 1.*np.pi, 1.5*np.pi, 2*np.pi]\n",
    "    for mean in angles:\n",
    "        #exp.append(normal_exp(beta_spherical[...,:-1], mean, sigma))\n",
    "        #print(\"shape exp\", normal_exp(beta_spherical[...,:-1], mean, sigma).shape)\n",
    "        exp.append(normal_exp(beta_spherical[...,-1:], mean, sigma))\n",
    "        print(\"shape exp\", normal_exp(beta_spherical, mean, sigma).shape)\n",
    "    exp_torch = torch.cat(exp, dim=-1)\n",
    "    print(\"shape beta\", beta_spherical.shape)\n",
    "    print(\"shape exp_torch\", exp_torch.shape)\n",
    "    print(\"shape log_sum_exp\", torch.logsumexp(exp_torch, dim=-1).shape)\n",
    "    \n",
    "    # const = torch.tensor(2*np.pi * sigma * len(angles) * beta_spherical[...,:-1].shape[-1])\n",
    "    # const = torch.tensor(2*np.pi * sigma * len(angles) * beta_spherical.shape[-1])\n",
    "    # const = torch.tensor(2*np.pi * sigma * len(angles))\n",
    "    n_dim = beta_spherical.shape[-1]\n",
    "    const = torch.tensor(2*np.pi * (sigma**2))\n",
    "    return torch.logsumexp(exp_torch, dim=-1) - 0.5 * n_dim * torch.log(const) - torch.log(torch.tensor(len(angles)))\n",
    "                   \n",
    "    # theta_00_pi = torch.logsumexp( - 0.5 * (beta_spherical[...,:-1] / sigma ).square(), dim=-1) \n",
    "    # theta_05_pi = torch.logsumexp( - 0.5 * ((beta_spherical[...,:-1] - 0.5*np.pi) / sigma).square(), dim=-1) \n",
    "    # theta_10_pi = torch.logsumexp( - 0.5 * ((beta_spherical[...,:-1] - 1.0*np.pi) / sigma).square(), dim=-1)\n",
    "    # \n",
    "    # #theta_15_pi = torch.logsumexp( - 0.5 * ((beta_spherical[...,-1:] - 1.5*np.pi) / (sigma + eps)).square(), dim=-1)\n",
    "    # #theta_20_pi = torch.logsumexp( - 0.5 * ((beta_spherical[...,-1:] - 2.0*np.pi) / (sigma + eps)).square(), dim=-1)\n",
    "    # \n",
    "    # prior_theta = theta_00_pi + theta_05_pi + theta_10_pi #+ theta_15_pi + theta_20_pi\n",
    "\n",
    "    # return prior_theta\n",
    "\n",
    "# def normal_exp (arr, mean, sigma):\n",
    "#     return - 0.5 * ((arr - mean) / sigma ).square()\n",
    "    \n",
    "def normal_exp (arr, mean, sigma):\n",
    "    return - 0.5 * ((arr - mean) / sigma ).square().sum(-1).unsqueeze(-1)"
   ],
   "metadata": {
    "collapsed": false,
    "ExecuteTime": {
     "end_time": "2023-09-05T17:13:51.030375652Z",
     "start_time": "2023-09-05T17:13:50.943595778Z"
    }
   }
  },
  {
   "cell_type": "code",
   "execution_count": 481,
   "outputs": [],
   "source": [
    "def build_flow_manifold (flow_dim, norm, q, n_layers=3, hidden_features=256, device='cuda'):\n",
    "    # base distribution over flattened triangular matrix\n",
    "    #base_dist = StandardNormal(shape=[flow_dim-1])\n",
    "    n_comp = 5\n",
    "    # means = torch.rand(n_comp,flow_dim-1).to(device)\n",
    "    means =  torch.tensor([[5.],[2.5],[0.],[-2.5],[-5.]]).repeat(1,flow_dim-1).to(device)\n",
    "    stds = (torch.ones(n_comp,flow_dim-1) * 0.1).to(device)\n",
    "    base_dist = MOG(means=means, stds=stds)\n",
    "    #low = torch.tensor(-5.).to(device)\n",
    "    #high = torch.tensor(5.).to(device)\n",
    "    #base_dist = Uniform(shape=[flow_dim-1], low=low, high=high)\n",
    "\n",
    "    # Define an invertible transformation\n",
    "    transformation_layers = []\n",
    "\n",
    "    for _ in range(n_layers):\n",
    "        #transformation_layers.append(RandomPermutation(features=flow_dim-1))\n",
    "\n",
    "        transformation_layers.append(\n",
    "            InverseTransform(\n",
    "                MaskedSumOfSigmoidsTransform(features=flow_dim-1, hidden_features=hidden_features, num_blocks=3, n_sigmoids=30)\n",
    "            )\n",
    "        )\n",
    "\n",
    "        #transformation_layers.append(\n",
    "        #InverseTransform(\n",
    "        #        Sigmoid()\n",
    "        #    )\n",
    "        #)\n",
    "        \n",
    "        transformation_layers.append(\n",
    "          InverseTransform(\n",
    "              ActNorm(features=flow_dim-1)\n",
    "          )\n",
    "        )\n",
    "\n",
    "\n",
    "\n",
    "    transformation_layers.append(\n",
    "       InverseTransform(\n",
    "               CompositeTransform([\n",
    "                   ScalarScale(scale=2, trainable=False)])#,\n",
    "                   #ScalarShift(shift=-1, trainable=False)])\n",
    "           )\n",
    "    )\n",
    "\n",
    "    #transformation_layers.append(\n",
    "    #   InverseTransform(\n",
    "    #       Sigmoid()\n",
    "    #   )\n",
    "    #)\n",
    "\n",
    "    transformation_layers.append(\n",
    "        InverseTransform(\n",
    "                ConstrainedAnglesSigmoid(temperature=1, learn_temperature=False)\n",
    "            )\n",
    "    )\n",
    "    \n",
    "    transformation_layers.append(\n",
    "        InverseTransform(\n",
    "            ClampedAngles(eps=1e-5)\n",
    "        )\n",
    "    )\n",
    "    \n",
    "    transformation_layers.append(\n",
    "        InverseTransform(\n",
    "            FixedNorm(norm=norm, q=q)\n",
    "        )\n",
    "    )\n",
    "    \n",
    "    \n",
    "    \n",
    "    transformation_layers = transformation_layers[::-1]\n",
    "    transform = CompositeTransform(transformation_layers)\n",
    "\n",
    "    # combine into a flow\n",
    "    flow = Flow(transform, base_dist).to(device)\n",
    "\n",
    "    return flow\n",
    "\n",
    "def build_flow_lipshitz_manifold (flow_dim, norm, q, n_layers=3, hidden_features=256, device='cuda'):\n",
    "    # base distribution over flattened triangular matrix\n",
    "    base_dist = StandardNormal(shape=[flow_dim-1])\n",
    "    #low = torch.tensor(-1.).to(device)\n",
    "    #high = torch.tensor(1.).to(device)\n",
    "    #base_dist = Uniform(shape=[flow_dim-1], low=low, high=high)\n",
    "\n",
    "    densenet_builder = LipschitzDenseNetBuilder(input_channels=flow_dim-1,\n",
    "                                                densenet_depth=5,\n",
    "                                                activation_function=Sin(w0=30),\n",
    "                                                lip_coeff=.97,\n",
    "                                                )\n",
    "\n",
    "    transform_layers = []\n",
    "    for i in range(n_layers):\n",
    "\n",
    "        transform_layers.append(InverseTransform(iResBlock(densenet_builder.build_network(), brute_force=False)))\n",
    "        transform_layers.append(InverseTransform(ActNorm(features=flow_dim-1)))\n",
    "    \n",
    "    transform_layers.append(\n",
    "        InverseTransform(\n",
    "                ConstrainedAnglesSigmoid()\n",
    "            )\n",
    "    )\n",
    "    transform_layers.append(\n",
    "        InverseTransform(\n",
    "            FixedNorm(norm=norm, q=q)\n",
    "        )\n",
    "    )\n",
    "\n",
    "    transform_layers = transform_layers[::-1]\n",
    "    transform = CompositeTransform(transform_layers)\n",
    "\n",
    "    flow = Flow(transform, base_dist).to(device)\n",
    "\n",
    "    return flow"
   ],
   "metadata": {
    "collapsed": false,
    "ExecuteTime": {
     "end_time": "2023-09-05T17:13:51.444622884Z",
     "start_time": "2023-09-05T17:13:51.378908842Z"
    }
   }
  },
  {
   "cell_type": "code",
   "execution_count": 482,
   "outputs": [],
   "source": [
    "def train_model (model, epochs=2_001, lr=1e-3, sample_size=1, device=\"cuda\", **kwargs):\n",
    "\n",
    "    # optimizer = torch.optim.Adam([{'params':model.parameters()}, {'params':log_sigma, 'lr':1e-2}], lr=lr)\n",
    "    optimizer = torch.optim.Adam(model.parameters(), lr=lr)\n",
    "    # scheduler = torch.optim.lr_scheduler.ExponentialLR(optimizer, gamma=0.95)\n",
    "\n",
    "    loss = []\n",
    "    try:\n",
    "        start_time = time.monotonic()\n",
    "        model.train()\n",
    "        for epoch in range(epochs):\n",
    "            optimizer.zero_grad()\n",
    "            q_samples, q_log_prob = model.sample_and_log_prob(num_samples=sample_size)\n",
    "            if torch.any(torch.isnan(q_samples)): breakpoint()\n",
    "            \n",
    "            # log_lik = uniform_p_norm(beta=q_log_prob_beta)\n",
    "            # kl_div = torch.mean(q_log_prob_beta - log_lik)\n",
    "            # kl_div.backward()\n",
    "\n",
    "            #assert not torch.any(torch.isnan(q_log_prob))\n",
    "\n",
    "            log_prior = log_prior_angles(q_samples, torch.tensor(0.2))\n",
    "            assert not torch.any(torch.isnan(log_prior))\n",
    "            kl_div = torch.mean(q_log_prob - log_prior)\n",
    "            #kl_div = torch.mean(q_log_prob)\n",
    "            kl_div.backward()\n",
    "            \n",
    "            #torch.nn.utils.clip_grad_norm_(model.parameters(), .001)\n",
    "            optimizer.step()\n",
    "\n",
    "            # loss.append(torch.mean(q_log_prob_beta - log_lik).cpu().detach().numpy())\n",
    "            # loss.append(torch.mean(q_log_prob).cpu().detach().numpy())\n",
    "            loss.append(torch.mean(q_log_prob - log_prior).cpu().detach().numpy())\n",
    "\n",
    "            print(f\"Training loss at step {epoch}: {loss[-1]:.4f}\")\n",
    "            if epoch % 25 == 0:\n",
    "                \n",
    "                q_log_prob_np = q_log_prob.detach().cpu().numpy().ravel()\n",
    "                q_samples_np = q_samples.detach().cpu().numpy()\n",
    "                samples_spherical = cartesian_to_spherical_torch(torch.tensor(q_samples_np)).numpy()\n",
    "                for i in range(1, samples_spherical.shape[1]):\n",
    "                    # plt.figure(figsize=(10,5))\n",
    "                    # plt.scatter(samples_spherical[:,i], q_log_prob_np, marker='.')\n",
    "                    # plt.show()\n",
    "                    # plt.clf()\n",
    "\n",
    "                    plt.figure(figsize=(10,5))\n",
    "                    plt.hist(samples_spherical[:,i], bins=25)\n",
    "                    #n, bins, patches = plt.hist(samples_spherical[:,i], bins=25)\n",
    "                    #plt.vlines([0, np.pi * 0.5, np.pi, np.pi*1.5, 2 * np.pi], ymin=0, ymax=max(n), linestyles='dashed', colors='b')\n",
    "                    # plt.savefig(f\"{dir_name}samples_p{q}_theta_flow.pdf\", dpi=100)\n",
    "                    plt.xlim(0, 2*np.pi)\n",
    "                    plt.show()\n",
    "                    plt.clf()\n",
    "\n",
    "    except KeyboardInterrupt:\n",
    "        print(\"interrupted..\")\n",
    "\n",
    "    end_time = time.monotonic()\n",
    "    time_diff = timedelta(seconds=end_time - start_time)\n",
    "    print(f\"Training took {time_diff} seconds\")\n",
    "\n",
    "    return model, loss"
   ],
   "metadata": {
    "collapsed": false,
    "ExecuteTime": {
     "end_time": "2023-09-05T17:13:51.664235546Z",
     "start_time": "2023-09-05T17:13:51.601765687Z"
    }
   }
  },
  {
   "cell_type": "code",
   "execution_count": 483,
   "outputs": [],
   "source": [
    "def sample_beta (model, sample_size=100, n_iter=500, device='cuda'):\n",
    "    # Sample from approximate posterior & estimate significant edges via  posterior credible interval\n",
    "    samples = []\n",
    "    for _ in tqdm.tqdm(range(n_iter)):\n",
    "        posterior_samples, log_probs_samples = model.sample_and_log_prob(sample_size)\n",
    "        samples.append(posterior_samples.cpu().detach().numpy())\n",
    "\n",
    "    return np.concatenate(samples, 0)"
   ],
   "metadata": {
    "collapsed": false,
    "ExecuteTime": {
     "end_time": "2023-09-05T17:13:51.889843283Z",
     "start_time": "2023-09-05T17:13:51.832614525Z"
    }
   }
  },
  {
   "cell_type": "code",
   "execution_count": 484,
   "outputs": [],
   "source": [
    "import os\n",
    "dir_name = \"./plots/\"\n",
    "if not os.path.exists(dir_name):\n",
    "    # If it doesn't exist, create it\n",
    "    os.makedirs(dir_name)"
   ],
   "metadata": {
    "collapsed": false,
    "ExecuteTime": {
     "end_time": "2023-09-05T17:13:52.217605492Z",
     "start_time": "2023-09-05T17:13:52.172141973Z"
    }
   }
  },
  {
   "cell_type": "code",
   "execution_count": 485,
   "outputs": [],
   "source": [
    "device = 'cuda'\n",
    "set_random_seeds(1234)\n",
    "\n",
    "# Build Model\n",
    "flow_dim = 5\n",
    "q = 1\n",
    "norm = 1\n",
    "flow = build_flow_manifold(flow_dim, norm=norm, q=q, n_layers=3, hidden_features=64, device=device)\n",
    "#flow = build_flow_lipshitz_manifold(flow_dim, norm=norm, q=q, n_layers=3, hidden_features=64, device=device)\n",
    "\n",
    "params = dict(lr=1e-3,\n",
    "              epochs=201,\n",
    "              sample_size=1_000,\n",
    "              device=device)"
   ],
   "metadata": {
    "collapsed": false,
    "ExecuteTime": {
     "end_time": "2023-09-05T17:13:52.627683657Z",
     "start_time": "2023-09-05T17:13:52.556535275Z"
    }
   }
  },
  {
   "cell_type": "code",
   "execution_count": 486,
   "outputs": [],
   "source": [
    "torch.set_printoptions(precision=10)"
   ],
   "metadata": {
    "collapsed": false,
    "ExecuteTime": {
     "end_time": "2023-09-05T17:13:53.104479978Z",
     "start_time": "2023-09-05T17:13:53.058526942Z"
    }
   }
  },
  {
   "cell_type": "code",
   "execution_count": null,
   "outputs": [
    {
     "name": "stdout",
     "output_type": "stream",
     "text": [
      "shape exp torch.Size([1000, 1])\n",
      "shape exp torch.Size([1000, 1])\n",
      "shape exp torch.Size([1000, 1])\n",
      "shape exp torch.Size([1000, 1])\n",
      "shape exp torch.Size([1000, 1])\n",
      "shape beta torch.Size([1000, 4])\n",
      "shape exp_torch torch.Size([1000, 5])\n",
      "shape log_sum_exp torch.Size([1000])\n",
      "Training loss at step 0: 17.0476\n"
     ]
    },
    {
     "name": "stderr",
     "output_type": "stream",
     "text": [
      "/tmp/ipykernel_83692/3021712589.py:35: UserWarning: To copy construct from a tensor, it is recommended to use sourceTensor.clone().detach() or sourceTensor.clone().detach().requires_grad_(True), rather than torch.tensor(sourceTensor).\n",
      "  const = torch.tensor(2*np.pi * (sigma**2))\n"
     ]
    },
    {
     "data": {
      "text/plain": "<Figure size 720x360 with 1 Axes>",
      "image/png": "[encoded data removed]"
     },
     "metadata": {
      "needs_background": "light"
     },
     "output_type": "display_data"
    },
    {
     "data": {
      "text/plain": "<Figure size 432x288 with 0 Axes>"
     },
     "metadata": {},
     "output_type": "display_data"
    },
    {
     "data": {
      "text/plain": "<Figure size 720x360 with 1 Axes>",
      "image/png": "[encoded data removed]"
     },
     "metadata": {
      "needs_background": "light"
     },
     "output_type": "display_data"
    },
    {
     "data": {
      "text/plain": "<Figure size 432x288 with 0 Axes>"
     },
     "metadata": {},
     "output_type": "display_data"
    },
    {
     "data": {
      "text/plain": "<Figure size 720x360 with 1 Axes>",
      "image/png": "[encoded data removed]"
     },
     "metadata": {
      "needs_background": "light"
     },
     "output_type": "display_data"
    },
    {
     "data": {
      "text/plain": "<Figure size 432x288 with 0 Axes>"
     },
     "metadata": {},
     "output_type": "display_data"
    },
    {
     "data": {
      "text/plain": "<Figure size 720x360 with 1 Axes>",
      "image/png": "[encoded data removed]"
     },
     "metadata": {
      "needs_background": "light"
     },
     "output_type": "display_data"
    },
    {
     "name": "stdout",
     "output_type": "stream",
     "text": [
      "shape exp torch.Size([1000, 1])\n",
      "shape exp torch.Size([1000, 1])\n",
      "shape exp torch.Size([1000, 1])\n",
      "shape exp torch.Size([1000, 1])\n",
      "shape exp torch.Size([1000, 1])\n",
      "shape beta torch.Size([1000, 4])\n",
      "shape exp_torch torch.Size([1000, 5])\n",
      "shape log_sum_exp torch.Size([1000])\n",
      "Training loss at step 1: 13.3227\n",
      "shape exp torch.Size([1000, 1])\n",
      "shape exp torch.Size([1000, 1])\n",
      "shape exp torch.Size([1000, 1])\n",
      "shape exp torch.Size([1000, 1])\n",
      "shape exp torch.Size([1000, 1])\n",
      "shape beta torch.Size([1000, 4])\n",
      "shape exp_torch torch.Size([1000, 5])\n",
      "shape log_sum_exp torch.Size([1000])\n",
      "Training loss at step 2: 13.0613\n",
      "shape exp torch.Size([1000, 1])\n",
      "shape exp torch.Size([1000, 1])\n",
      "shape exp torch.Size([1000, 1])\n",
      "shape exp torch.Size([1000, 1])\n",
      "shape exp torch.Size([1000, 1])\n",
      "shape beta torch.Size([1000, 4])\n",
      "shape exp_torch torch.Size([1000, 5])\n",
      "shape log_sum_exp torch.Size([1000])\n",
      "Training loss at step 3: 13.1428\n",
      "shape exp torch.Size([1000, 1])\n",
      "shape exp torch.Size([1000, 1])\n",
      "shape exp torch.Size([1000, 1])\n",
      "shape exp torch.Size([1000, 1])\n",
      "shape exp torch.Size([1000, 1])\n",
      "shape beta torch.Size([1000, 4])\n",
      "shape exp_torch torch.Size([1000, 5])\n",
      "shape log_sum_exp torch.Size([1000])\n",
      "Training loss at step 4: 12.2488\n",
      "shape exp torch.Size([1000, 1])\n",
      "shape exp torch.Size([1000, 1])\n",
      "shape exp torch.Size([1000, 1])\n",
      "shape exp torch.Size([1000, 1])\n",
      "shape exp torch.Size([1000, 1])\n",
      "shape beta torch.Size([1000, 4])\n",
      "shape exp_torch torch.Size([1000, 5])\n",
      "shape log_sum_exp torch.Size([1000])\n",
      "Training loss at step 5: 12.0287\n",
      "shape exp torch.Size([1000, 1])\n",
      "shape exp torch.Size([1000, 1])\n",
      "shape exp torch.Size([1000, 1])\n",
      "shape exp torch.Size([1000, 1])\n",
      "shape exp torch.Size([1000, 1])\n",
      "shape beta torch.Size([1000, 4])\n",
      "shape exp_torch torch.Size([1000, 5])\n",
      "shape log_sum_exp torch.Size([1000])\n",
      "Training loss at step 6: 11.8453\n",
      "shape exp torch.Size([1000, 1])\n",
      "shape exp torch.Size([1000, 1])\n",
      "shape exp torch.Size([1000, 1])\n",
      "shape exp torch.Size([1000, 1])\n",
      "shape exp torch.Size([1000, 1])\n",
      "shape beta torch.Size([1000, 4])\n",
      "shape exp_torch torch.Size([1000, 5])\n",
      "shape log_sum_exp torch.Size([1000])\n",
      "Training loss at step 7: 11.0672\n",
      "shape exp torch.Size([1000, 1])\n",
      "shape exp torch.Size([1000, 1])\n",
      "shape exp torch.Size([1000, 1])\n",
      "shape exp torch.Size([1000, 1])\n",
      "shape exp torch.Size([1000, 1])\n",
      "shape beta torch.Size([1000, 4])\n",
      "shape exp_torch torch.Size([1000, 5])\n",
      "shape log_sum_exp torch.Size([1000])\n",
      "Training loss at step 8: 11.1339\n",
      "shape exp torch.Size([1000, 1])\n",
      "shape exp torch.Size([1000, 1])\n",
      "shape exp torch.Size([1000, 1])\n",
      "shape exp torch.Size([1000, 1])\n",
      "shape exp torch.Size([1000, 1])\n",
      "shape beta torch.Size([1000, 4])\n",
      "shape exp_torch torch.Size([1000, 5])\n",
      "shape log_sum_exp torch.Size([1000])\n",
      "Training loss at step 9: 10.7062\n",
      "shape exp torch.Size([1000, 1])\n",
      "shape exp torch.Size([1000, 1])\n",
      "shape exp torch.Size([1000, 1])\n",
      "shape exp torch.Size([1000, 1])\n",
      "shape exp torch.Size([1000, 1])\n",
      "shape beta torch.Size([1000, 4])\n",
      "shape exp_torch torch.Size([1000, 5])\n",
      "shape log_sum_exp torch.Size([1000])\n",
      "Training loss at step 10: 10.7949\n",
      "shape exp torch.Size([1000, 1])\n",
      "shape exp torch.Size([1000, 1])\n",
      "shape exp torch.Size([1000, 1])\n",
      "shape exp torch.Size([1000, 1])\n",
      "shape exp torch.Size([1000, 1])\n",
      "shape beta torch.Size([1000, 4])\n",
      "shape exp_torch torch.Size([1000, 5])\n",
      "shape log_sum_exp torch.Size([1000])\n",
      "Training loss at step 11: 10.7027\n",
      "shape exp torch.Size([1000, 1])\n",
      "shape exp torch.Size([1000, 1])\n",
      "shape exp torch.Size([1000, 1])\n",
      "shape exp torch.Size([1000, 1])\n",
      "shape exp torch.Size([1000, 1])\n",
      "shape beta torch.Size([1000, 4])\n",
      "shape exp_torch torch.Size([1000, 5])\n",
      "shape log_sum_exp torch.Size([1000])\n",
      "Training loss at step 12: 10.4638\n",
      "shape exp torch.Size([1000, 1])\n",
      "shape exp torch.Size([1000, 1])\n",
      "shape exp torch.Size([1000, 1])\n",
      "shape exp torch.Size([1000, 1])\n",
      "shape exp torch.Size([1000, 1])\n",
      "shape beta torch.Size([1000, 4])\n",
      "shape exp_torch torch.Size([1000, 5])\n",
      "shape log_sum_exp torch.Size([1000])\n",
      "Training loss at step 13: 10.2144\n",
      "shape exp torch.Size([1000, 1])\n",
      "shape exp torch.Size([1000, 1])\n",
      "shape exp torch.Size([1000, 1])\n",
      "shape exp torch.Size([1000, 1])\n",
      "shape exp torch.Size([1000, 1])\n",
      "shape beta torch.Size([1000, 4])\n",
      "shape exp_torch torch.Size([1000, 5])\n",
      "shape log_sum_exp torch.Size([1000])\n",
      "Training loss at step 14: 9.8290\n",
      "shape exp torch.Size([1000, 1])\n",
      "shape exp torch.Size([1000, 1])\n",
      "shape exp torch.Size([1000, 1])\n",
      "shape exp torch.Size([1000, 1])\n",
      "shape exp torch.Size([1000, 1])\n",
      "shape beta torch.Size([1000, 4])\n",
      "shape exp_torch torch.Size([1000, 5])\n",
      "shape log_sum_exp torch.Size([1000])\n",
      "Training loss at step 15: 9.7657\n",
      "shape exp torch.Size([1000, 1])\n",
      "shape exp torch.Size([1000, 1])\n",
      "shape exp torch.Size([1000, 1])\n",
      "shape exp torch.Size([1000, 1])\n",
      "shape exp torch.Size([1000, 1])\n",
      "shape beta torch.Size([1000, 4])\n",
      "shape exp_torch torch.Size([1000, 5])\n",
      "shape log_sum_exp torch.Size([1000])\n",
      "Training loss at step 16: 9.7229\n",
      "shape exp torch.Size([1000, 1])\n",
      "shape exp torch.Size([1000, 1])\n",
      "shape exp torch.Size([1000, 1])\n",
      "shape exp torch.Size([1000, 1])\n",
      "shape exp torch.Size([1000, 1])\n",
      "shape beta torch.Size([1000, 4])\n",
      "shape exp_torch torch.Size([1000, 5])\n",
      "shape log_sum_exp torch.Size([1000])\n",
      "Training loss at step 17: 9.5546\n",
      "shape exp torch.Size([1000, 1])\n",
      "shape exp torch.Size([1000, 1])\n",
      "shape exp torch.Size([1000, 1])\n",
      "shape exp torch.Size([1000, 1])\n",
      "shape exp torch.Size([1000, 1])\n",
      "shape beta torch.Size([1000, 4])\n",
      "shape exp_torch torch.Size([1000, 5])\n",
      "shape log_sum_exp torch.Size([1000])\n",
      "Training loss at step 18: 9.4258\n",
      "shape exp torch.Size([1000, 1])\n",
      "shape exp torch.Size([1000, 1])\n",
      "shape exp torch.Size([1000, 1])\n",
      "shape exp torch.Size([1000, 1])\n",
      "shape exp torch.Size([1000, 1])\n",
      "shape beta torch.Size([1000, 4])\n",
      "shape exp_torch torch.Size([1000, 5])\n",
      "shape log_sum_exp torch.Size([1000])\n",
      "Training loss at step 19: 9.0130\n",
      "shape exp torch.Size([1000, 1])\n",
      "shape exp torch.Size([1000, 1])\n",
      "shape exp torch.Size([1000, 1])\n",
      "shape exp torch.Size([1000, 1])\n",
      "shape exp torch.Size([1000, 1])\n",
      "shape beta torch.Size([1000, 4])\n",
      "shape exp_torch torch.Size([1000, 5])\n",
      "shape log_sum_exp torch.Size([1000])\n",
      "Training loss at step 20: 8.8810\n",
      "shape exp torch.Size([1000, 1])\n",
      "shape exp torch.Size([1000, 1])\n",
      "shape exp torch.Size([1000, 1])\n",
      "shape exp torch.Size([1000, 1])\n",
      "shape exp torch.Size([1000, 1])\n",
      "shape beta torch.Size([1000, 4])\n",
      "shape exp_torch torch.Size([1000, 5])\n",
      "shape log_sum_exp torch.Size([1000])\n",
      "Training loss at step 21: 9.0895\n",
      "shape exp torch.Size([1000, 1])\n",
      "shape exp torch.Size([1000, 1])\n",
      "shape exp torch.Size([1000, 1])\n",
      "shape exp torch.Size([1000, 1])\n",
      "shape exp torch.Size([1000, 1])\n",
      "shape beta torch.Size([1000, 4])\n",
      "shape exp_torch torch.Size([1000, 5])\n",
      "shape log_sum_exp torch.Size([1000])\n",
      "Training loss at step 22: 8.7808\n",
      "shape exp torch.Size([1000, 1])\n",
      "shape exp torch.Size([1000, 1])\n",
      "shape exp torch.Size([1000, 1])\n",
      "shape exp torch.Size([1000, 1])\n",
      "shape exp torch.Size([1000, 1])\n",
      "shape beta torch.Size([1000, 4])\n",
      "shape exp_torch torch.Size([1000, 5])\n",
      "shape log_sum_exp torch.Size([1000])\n",
      "Training loss at step 23: 8.5100\n",
      "shape exp torch.Size([1000, 1])\n",
      "shape exp torch.Size([1000, 1])\n",
      "shape exp torch.Size([1000, 1])\n",
      "shape exp torch.Size([1000, 1])\n",
      "shape exp torch.Size([1000, 1])\n",
      "shape beta torch.Size([1000, 4])\n",
      "shape exp_torch torch.Size([1000, 5])\n",
      "shape log_sum_exp torch.Size([1000])\n",
      "Training loss at step 24: 8.7830\n",
      "shape exp torch.Size([1000, 1])\n",
      "shape exp torch.Size([1000, 1])\n",
      "shape exp torch.Size([1000, 1])\n",
      "shape exp torch.Size([1000, 1])\n",
      "shape exp torch.Size([1000, 1])\n",
      "shape beta torch.Size([1000, 4])\n",
      "shape exp_torch torch.Size([1000, 5])\n",
      "shape log_sum_exp torch.Size([1000])\n",
      "Training loss at step 25: 8.1594\n"
     ]
    },
    {
     "data": {
      "text/plain": "<Figure size 432x288 with 0 Axes>"
     },
     "metadata": {},
     "output_type": "display_data"
    },
    {
     "data": {
      "text/plain": "<Figure size 720x360 with 1 Axes>",
      "image/png": "[encoded data removed]"
     },
     "metadata": {
      "needs_background": "light"
     },
     "output_type": "display_data"
    },
    {
     "data": {
      "text/plain": "<Figure size 432x288 with 0 Axes>"
     },
     "metadata": {},
     "output_type": "display_data"
    },
    {
     "data": {
      "text/plain": "<Figure size 720x360 with 1 Axes>",
      "image/png": "[encoded data removed]"
     },
     "metadata": {
      "needs_background": "light"
     },
     "output_type": "display_data"
    },
    {
     "data": {
      "text/plain": "<Figure size 432x288 with 0 Axes>"
     },
     "metadata": {},
     "output_type": "display_data"
    },
    {
     "data": {
      "text/plain": "<Figure size 720x360 with 1 Axes>",
      "image/png": "[encoded data removed]"
     },
     "metadata": {
      "needs_background": "light"
     },
     "output_type": "display_data"
    },
    {
     "data": {
      "text/plain": "<Figure size 432x288 with 0 Axes>"
     },
     "metadata": {},
     "output_type": "display_data"
    },
    {
     "data": {
      "text/plain": "<Figure size 720x360 with 1 Axes>",
      "image/png": "[encoded data removed]"
     },
     "metadata": {
      "needs_background": "light"
     },
     "output_type": "display_data"
    },
    {
     "name": "stdout",
     "output_type": "stream",
     "text": [
      "shape exp torch.Size([1000, 1])\n",
      "shape exp torch.Size([1000, 1])\n",
      "shape exp torch.Size([1000, 1])\n",
      "shape exp torch.Size([1000, 1])\n",
      "shape exp torch.Size([1000, 1])\n",
      "shape beta torch.Size([1000, 4])\n",
      "shape exp_torch torch.Size([1000, 5])\n",
      "shape log_sum_exp torch.Size([1000])\n",
      "Training loss at step 26: 7.8521\n",
      "shape exp torch.Size([1000, 1])\n",
      "shape exp torch.Size([1000, 1])\n",
      "shape exp torch.Size([1000, 1])\n",
      "shape exp torch.Size([1000, 1])\n",
      "shape exp torch.Size([1000, 1])\n",
      "shape beta torch.Size([1000, 4])\n",
      "shape exp_torch torch.Size([1000, 5])\n",
      "shape log_sum_exp torch.Size([1000])\n",
      "Training loss at step 27: 7.7989\n",
      "shape exp torch.Size([1000, 1])\n",
      "shape exp torch.Size([1000, 1])\n",
      "shape exp torch.Size([1000, 1])\n",
      "shape exp torch.Size([1000, 1])\n",
      "shape exp torch.Size([1000, 1])\n",
      "shape beta torch.Size([1000, 4])\n",
      "shape exp_torch torch.Size([1000, 5])\n",
      "shape log_sum_exp torch.Size([1000])\n",
      "Training loss at step 28: 7.6456\n",
      "shape exp torch.Size([1000, 1])\n",
      "shape exp torch.Size([1000, 1])\n",
      "shape exp torch.Size([1000, 1])\n",
      "shape exp torch.Size([1000, 1])\n",
      "shape exp torch.Size([1000, 1])\n",
      "shape beta torch.Size([1000, 4])\n",
      "shape exp_torch torch.Size([1000, 5])\n",
      "shape log_sum_exp torch.Size([1000])\n",
      "Training loss at step 29: 7.8524\n",
      "shape exp torch.Size([1000, 1])\n",
      "shape exp torch.Size([1000, 1])\n",
      "shape exp torch.Size([1000, 1])\n",
      "shape exp torch.Size([1000, 1])\n",
      "shape exp torch.Size([1000, 1])\n",
      "shape beta torch.Size([1000, 4])\n",
      "shape exp_torch torch.Size([1000, 5])\n",
      "shape log_sum_exp torch.Size([1000])\n",
      "Training loss at step 30: 7.5452\n",
      "shape exp torch.Size([1000, 1])\n",
      "shape exp torch.Size([1000, 1])\n",
      "shape exp torch.Size([1000, 1])\n",
      "shape exp torch.Size([1000, 1])\n",
      "shape exp torch.Size([1000, 1])\n",
      "shape beta torch.Size([1000, 4])\n",
      "shape exp_torch torch.Size([1000, 5])\n",
      "shape log_sum_exp torch.Size([1000])\n",
      "Training loss at step 31: 7.2115\n",
      "shape exp torch.Size([1000, 1])\n",
      "shape exp torch.Size([1000, 1])\n",
      "shape exp torch.Size([1000, 1])\n",
      "shape exp torch.Size([1000, 1])\n",
      "shape exp torch.Size([1000, 1])\n",
      "shape beta torch.Size([1000, 4])\n",
      "shape exp_torch torch.Size([1000, 5])\n",
      "shape log_sum_exp torch.Size([1000])\n",
      "Training loss at step 32: 7.2698\n",
      "shape exp torch.Size([1000, 1])\n",
      "shape exp torch.Size([1000, 1])\n",
      "shape exp torch.Size([1000, 1])\n",
      "shape exp torch.Size([1000, 1])\n",
      "shape exp torch.Size([1000, 1])\n",
      "shape beta torch.Size([1000, 4])\n",
      "shape exp_torch torch.Size([1000, 5])\n",
      "shape log_sum_exp torch.Size([1000])\n",
      "Training loss at step 33: 6.7083\n",
      "shape exp torch.Size([1000, 1])\n",
      "shape exp torch.Size([1000, 1])\n",
      "shape exp torch.Size([1000, 1])\n",
      "shape exp torch.Size([1000, 1])\n",
      "shape exp torch.Size([1000, 1])\n",
      "shape beta torch.Size([1000, 4])\n",
      "shape exp_torch torch.Size([1000, 5])\n",
      "shape log_sum_exp torch.Size([1000])\n",
      "Training loss at step 34: 6.5117\n",
      "shape exp torch.Size([1000, 1])\n",
      "shape exp torch.Size([1000, 1])\n",
      "shape exp torch.Size([1000, 1])\n",
      "shape exp torch.Size([1000, 1])\n",
      "shape exp torch.Size([1000, 1])\n",
      "shape beta torch.Size([1000, 4])\n",
      "shape exp_torch torch.Size([1000, 5])\n",
      "shape log_sum_exp torch.Size([1000])\n",
      "Training loss at step 35: 6.5025\n",
      "shape exp torch.Size([1000, 1])\n",
      "shape exp torch.Size([1000, 1])\n",
      "shape exp torch.Size([1000, 1])\n",
      "shape exp torch.Size([1000, 1])\n",
      "shape exp torch.Size([1000, 1])\n",
      "shape beta torch.Size([1000, 4])\n",
      "shape exp_torch torch.Size([1000, 5])\n",
      "shape log_sum_exp torch.Size([1000])\n",
      "Training loss at step 36: 6.0308\n",
      "shape exp torch.Size([1000, 1])\n",
      "shape exp torch.Size([1000, 1])\n",
      "shape exp torch.Size([1000, 1])\n",
      "shape exp torch.Size([1000, 1])\n",
      "shape exp torch.Size([1000, 1])\n",
      "shape beta torch.Size([1000, 4])\n",
      "shape exp_torch torch.Size([1000, 5])\n",
      "shape log_sum_exp torch.Size([1000])\n",
      "Training loss at step 37: 6.0917\n",
      "shape exp torch.Size([1000, 1])\n",
      "shape exp torch.Size([1000, 1])\n",
      "shape exp torch.Size([1000, 1])\n",
      "shape exp torch.Size([1000, 1])\n",
      "shape exp torch.Size([1000, 1])\n",
      "shape beta torch.Size([1000, 4])\n",
      "shape exp_torch torch.Size([1000, 5])\n",
      "shape log_sum_exp torch.Size([1000])\n",
      "Training loss at step 38: 5.8897\n",
      "shape exp torch.Size([1000, 1])\n",
      "shape exp torch.Size([1000, 1])\n",
      "shape exp torch.Size([1000, 1])\n",
      "shape exp torch.Size([1000, 1])\n",
      "shape exp torch.Size([1000, 1])\n",
      "shape beta torch.Size([1000, 4])\n",
      "shape exp_torch torch.Size([1000, 5])\n",
      "shape log_sum_exp torch.Size([1000])\n",
      "Training loss at step 39: 5.9689\n",
      "shape exp torch.Size([1000, 1])\n",
      "shape exp torch.Size([1000, 1])\n",
      "shape exp torch.Size([1000, 1])\n",
      "shape exp torch.Size([1000, 1])\n",
      "shape exp torch.Size([1000, 1])\n",
      "shape beta torch.Size([1000, 4])\n",
      "shape exp_torch torch.Size([1000, 5])\n",
      "shape log_sum_exp torch.Size([1000])\n",
      "Training loss at step 40: 5.7850\n",
      "shape exp torch.Size([1000, 1])\n",
      "shape exp torch.Size([1000, 1])\n",
      "shape exp torch.Size([1000, 1])\n",
      "shape exp torch.Size([1000, 1])\n",
      "shape exp torch.Size([1000, 1])\n",
      "shape beta torch.Size([1000, 4])\n",
      "shape exp_torch torch.Size([1000, 5])\n",
      "shape log_sum_exp torch.Size([1000])\n",
      "Training loss at step 41: 5.6241\n",
      "shape exp torch.Size([1000, 1])\n",
      "shape exp torch.Size([1000, 1])\n",
      "shape exp torch.Size([1000, 1])\n",
      "shape exp torch.Size([1000, 1])\n",
      "shape exp torch.Size([1000, 1])\n",
      "shape beta torch.Size([1000, 4])\n",
      "shape exp_torch torch.Size([1000, 5])\n",
      "shape log_sum_exp torch.Size([1000])\n",
      "Training loss at step 42: 5.7899\n",
      "shape exp torch.Size([1000, 1])\n",
      "shape exp torch.Size([1000, 1])\n",
      "shape exp torch.Size([1000, 1])\n",
      "shape exp torch.Size([1000, 1])\n",
      "shape exp torch.Size([1000, 1])\n",
      "shape beta torch.Size([1000, 4])\n",
      "shape exp_torch torch.Size([1000, 5])\n",
      "shape log_sum_exp torch.Size([1000])\n",
      "Training loss at step 43: 5.6748\n",
      "shape exp torch.Size([1000, 1])\n",
      "shape exp torch.Size([1000, 1])\n",
      "shape exp torch.Size([1000, 1])\n",
      "shape exp torch.Size([1000, 1])\n",
      "shape exp torch.Size([1000, 1])\n",
      "shape beta torch.Size([1000, 4])\n",
      "shape exp_torch torch.Size([1000, 5])\n",
      "shape log_sum_exp torch.Size([1000])\n",
      "Training loss at step 44: 5.2553\n",
      "shape exp torch.Size([1000, 1])\n",
      "shape exp torch.Size([1000, 1])\n",
      "shape exp torch.Size([1000, 1])\n",
      "shape exp torch.Size([1000, 1])\n",
      "shape exp torch.Size([1000, 1])\n",
      "shape beta torch.Size([1000, 4])\n",
      "shape exp_torch torch.Size([1000, 5])\n",
      "shape log_sum_exp torch.Size([1000])\n",
      "Training loss at step 45: 5.1762\n",
      "shape exp torch.Size([1000, 1])\n",
      "shape exp torch.Size([1000, 1])\n",
      "shape exp torch.Size([1000, 1])\n",
      "shape exp torch.Size([1000, 1])\n",
      "shape exp torch.Size([1000, 1])\n",
      "shape beta torch.Size([1000, 4])\n",
      "shape exp_torch torch.Size([1000, 5])\n",
      "shape log_sum_exp torch.Size([1000])\n",
      "Training loss at step 46: 5.3624\n",
      "shape exp torch.Size([1000, 1])\n",
      "shape exp torch.Size([1000, 1])\n",
      "shape exp torch.Size([1000, 1])\n",
      "shape exp torch.Size([1000, 1])\n",
      "shape exp torch.Size([1000, 1])\n",
      "shape beta torch.Size([1000, 4])\n",
      "shape exp_torch torch.Size([1000, 5])\n",
      "shape log_sum_exp torch.Size([1000])\n",
      "Training loss at step 47: 5.1430\n",
      "shape exp torch.Size([1000, 1])\n",
      "shape exp torch.Size([1000, 1])\n",
      "shape exp torch.Size([1000, 1])\n",
      "shape exp torch.Size([1000, 1])\n",
      "shape exp torch.Size([1000, 1])\n",
      "shape beta torch.Size([1000, 4])\n",
      "shape exp_torch torch.Size([1000, 5])\n",
      "shape log_sum_exp torch.Size([1000])\n",
      "Training loss at step 48: 4.8359\n",
      "shape exp torch.Size([1000, 1])\n",
      "shape exp torch.Size([1000, 1])\n",
      "shape exp torch.Size([1000, 1])\n",
      "shape exp torch.Size([1000, 1])\n",
      "shape exp torch.Size([1000, 1])\n",
      "shape beta torch.Size([1000, 4])\n",
      "shape exp_torch torch.Size([1000, 5])\n",
      "shape log_sum_exp torch.Size([1000])\n",
      "Training loss at step 49: 5.0002\n",
      "shape exp torch.Size([1000, 1])\n",
      "shape exp torch.Size([1000, 1])\n",
      "shape exp torch.Size([1000, 1])\n",
      "shape exp torch.Size([1000, 1])\n",
      "shape exp torch.Size([1000, 1])\n",
      "shape beta torch.Size([1000, 4])\n",
      "shape exp_torch torch.Size([1000, 5])\n",
      "shape log_sum_exp torch.Size([1000])\n",
      "Training loss at step 50: 4.9340\n"
     ]
    },
    {
     "data": {
      "text/plain": "<Figure size 432x288 with 0 Axes>"
     },
     "metadata": {},
     "output_type": "display_data"
    },
    {
     "data": {
      "text/plain": "<Figure size 720x360 with 1 Axes>",
      "image/png": "[encoded data removed]"
     },
     "metadata": {
      "needs_background": "light"
     },
     "output_type": "display_data"
    },
    {
     "data": {
      "text/plain": "<Figure size 432x288 with 0 Axes>"
     },
     "metadata": {},
     "output_type": "display_data"
    },
    {
     "data": {
      "text/plain": "<Figure size 720x360 with 1 Axes>",
      "image/png": "[encoded data removed]"
     },
     "metadata": {
      "needs_background": "light"
     },
     "output_type": "display_data"
    },
    {
     "data": {
      "text/plain": "<Figure size 432x288 with 0 Axes>"
     },
     "metadata": {},
     "output_type": "display_data"
    },
    {
     "data": {
      "text/plain": "<Figure size 720x360 with 1 Axes>",
      "image/png": "[encoded data removed]"
     },
     "metadata": {
      "needs_background": "light"
     },
     "output_type": "display_data"
    },
    {
     "data": {
      "text/plain": "<Figure size 432x288 with 0 Axes>"
     },
     "metadata": {},
     "output_type": "display_data"
    },
    {
     "data": {
      "text/plain": "<Figure size 720x360 with 1 Axes>",
      "image/png": "[encoded data removed]"
     },
     "metadata": {
      "needs_background": "light"
     },
     "output_type": "display_data"
    },
    {
     "name": "stdout",
     "output_type": "stream",
     "text": [
      "shape exp torch.Size([1000, 1])\n",
      "shape exp torch.Size([1000, 1])\n",
      "shape exp torch.Size([1000, 1])\n",
      "shape exp torch.Size([1000, 1])\n",
      "shape exp torch.Size([1000, 1])\n",
      "shape beta torch.Size([1000, 4])\n",
      "shape exp_torch torch.Size([1000, 5])\n",
      "shape log_sum_exp torch.Size([1000])\n",
      "Training loss at step 51: 4.7390\n",
      "shape exp torch.Size([1000, 1])\n",
      "shape exp torch.Size([1000, 1])\n",
      "shape exp torch.Size([1000, 1])\n",
      "shape exp torch.Size([1000, 1])\n",
      "shape exp torch.Size([1000, 1])\n",
      "shape beta torch.Size([1000, 4])\n",
      "shape exp_torch torch.Size([1000, 5])\n",
      "shape log_sum_exp torch.Size([1000])\n",
      "Training loss at step 52: 4.6023\n",
      "shape exp torch.Size([1000, 1])\n",
      "shape exp torch.Size([1000, 1])\n",
      "shape exp torch.Size([1000, 1])\n",
      "shape exp torch.Size([1000, 1])\n",
      "shape exp torch.Size([1000, 1])\n",
      "shape beta torch.Size([1000, 4])\n",
      "shape exp_torch torch.Size([1000, 5])\n",
      "shape log_sum_exp torch.Size([1000])\n",
      "Training loss at step 53: 4.6381\n",
      "shape exp torch.Size([1000, 1])\n",
      "shape exp torch.Size([1000, 1])\n",
      "shape exp torch.Size([1000, 1])\n",
      "shape exp torch.Size([1000, 1])\n",
      "shape exp torch.Size([1000, 1])\n",
      "shape beta torch.Size([1000, 4])\n",
      "shape exp_torch torch.Size([1000, 5])\n",
      "shape log_sum_exp torch.Size([1000])\n",
      "Training loss at step 54: 4.4671\n",
      "shape exp torch.Size([1000, 1])\n",
      "shape exp torch.Size([1000, 1])\n",
      "shape exp torch.Size([1000, 1])\n",
      "shape exp torch.Size([1000, 1])\n",
      "shape exp torch.Size([1000, 1])\n",
      "shape beta torch.Size([1000, 4])\n",
      "shape exp_torch torch.Size([1000, 5])\n",
      "shape log_sum_exp torch.Size([1000])\n",
      "Training loss at step 55: 4.3018\n",
      "shape exp torch.Size([1000, 1])\n",
      "shape exp torch.Size([1000, 1])\n",
      "shape exp torch.Size([1000, 1])\n",
      "shape exp torch.Size([1000, 1])\n",
      "shape exp torch.Size([1000, 1])\n",
      "shape beta torch.Size([1000, 4])\n",
      "shape exp_torch torch.Size([1000, 5])\n",
      "shape log_sum_exp torch.Size([1000])\n",
      "Training loss at step 56: 4.4569\n",
      "shape exp torch.Size([1000, 1])\n",
      "shape exp torch.Size([1000, 1])\n",
      "shape exp torch.Size([1000, 1])\n",
      "shape exp torch.Size([1000, 1])\n",
      "shape exp torch.Size([1000, 1])\n",
      "shape beta torch.Size([1000, 4])\n",
      "shape exp_torch torch.Size([1000, 5])\n",
      "shape log_sum_exp torch.Size([1000])\n",
      "Training loss at step 57: 4.3195\n",
      "shape exp torch.Size([1000, 1])\n",
      "shape exp torch.Size([1000, 1])\n",
      "shape exp torch.Size([1000, 1])\n",
      "shape exp torch.Size([1000, 1])\n",
      "shape exp torch.Size([1000, 1])\n",
      "shape beta torch.Size([1000, 4])\n",
      "shape exp_torch torch.Size([1000, 5])\n",
      "shape log_sum_exp torch.Size([1000])\n",
      "Training loss at step 58: 4.4210\n",
      "shape exp torch.Size([1000, 1])\n",
      "shape exp torch.Size([1000, 1])\n",
      "shape exp torch.Size([1000, 1])\n",
      "shape exp torch.Size([1000, 1])\n",
      "shape exp torch.Size([1000, 1])\n",
      "shape beta torch.Size([1000, 4])\n",
      "shape exp_torch torch.Size([1000, 5])\n",
      "shape log_sum_exp torch.Size([1000])\n",
      "Training loss at step 59: 4.2429\n",
      "shape exp torch.Size([1000, 1])\n",
      "shape exp torch.Size([1000, 1])\n",
      "shape exp torch.Size([1000, 1])\n",
      "shape exp torch.Size([1000, 1])\n",
      "shape exp torch.Size([1000, 1])\n",
      "shape beta torch.Size([1000, 4])\n",
      "shape exp_torch torch.Size([1000, 5])\n",
      "shape log_sum_exp torch.Size([1000])\n",
      "Training loss at step 60: 4.2271\n",
      "shape exp torch.Size([1000, 1])\n",
      "shape exp torch.Size([1000, 1])\n",
      "shape exp torch.Size([1000, 1])\n",
      "shape exp torch.Size([1000, 1])\n",
      "shape exp torch.Size([1000, 1])\n",
      "shape beta torch.Size([1000, 4])\n",
      "shape exp_torch torch.Size([1000, 5])\n",
      "shape log_sum_exp torch.Size([1000])\n",
      "Training loss at step 61: 4.0303\n",
      "shape exp torch.Size([1000, 1])\n",
      "shape exp torch.Size([1000, 1])\n",
      "shape exp torch.Size([1000, 1])\n",
      "shape exp torch.Size([1000, 1])\n",
      "shape exp torch.Size([1000, 1])\n",
      "shape beta torch.Size([1000, 4])\n",
      "shape exp_torch torch.Size([1000, 5])\n",
      "shape log_sum_exp torch.Size([1000])\n",
      "Training loss at step 62: 4.1341\n",
      "shape exp torch.Size([1000, 1])\n",
      "shape exp torch.Size([1000, 1])\n",
      "shape exp torch.Size([1000, 1])\n",
      "shape exp torch.Size([1000, 1])\n",
      "shape exp torch.Size([1000, 1])\n",
      "shape beta torch.Size([1000, 4])\n",
      "shape exp_torch torch.Size([1000, 5])\n",
      "shape log_sum_exp torch.Size([1000])\n",
      "Training loss at step 63: 4.0908\n",
      "shape exp torch.Size([1000, 1])\n",
      "shape exp torch.Size([1000, 1])\n",
      "shape exp torch.Size([1000, 1])\n",
      "shape exp torch.Size([1000, 1])\n",
      "shape exp torch.Size([1000, 1])\n",
      "shape beta torch.Size([1000, 4])\n",
      "shape exp_torch torch.Size([1000, 5])\n",
      "shape log_sum_exp torch.Size([1000])\n",
      "Training loss at step 64: 4.0487\n",
      "shape exp torch.Size([1000, 1])\n",
      "shape exp torch.Size([1000, 1])\n",
      "shape exp torch.Size([1000, 1])\n",
      "shape exp torch.Size([1000, 1])\n",
      "shape exp torch.Size([1000, 1])\n",
      "shape beta torch.Size([1000, 4])\n",
      "shape exp_torch torch.Size([1000, 5])\n",
      "shape log_sum_exp torch.Size([1000])\n",
      "Training loss at step 65: 4.0177\n",
      "shape exp torch.Size([1000, 1])\n",
      "shape exp torch.Size([1000, 1])\n",
      "shape exp torch.Size([1000, 1])\n",
      "shape exp torch.Size([1000, 1])\n",
      "shape exp torch.Size([1000, 1])\n",
      "shape beta torch.Size([1000, 4])\n",
      "shape exp_torch torch.Size([1000, 5])\n",
      "shape log_sum_exp torch.Size([1000])\n",
      "Training loss at step 66: 4.1280\n",
      "shape exp torch.Size([1000, 1])\n",
      "shape exp torch.Size([1000, 1])\n",
      "shape exp torch.Size([1000, 1])\n",
      "shape exp torch.Size([1000, 1])\n",
      "shape exp torch.Size([1000, 1])\n",
      "shape beta torch.Size([1000, 4])\n",
      "shape exp_torch torch.Size([1000, 5])\n",
      "shape log_sum_exp torch.Size([1000])\n",
      "Training loss at step 67: 4.0262\n",
      "shape exp torch.Size([1000, 1])\n",
      "shape exp torch.Size([1000, 1])\n",
      "shape exp torch.Size([1000, 1])\n",
      "shape exp torch.Size([1000, 1])\n",
      "shape exp torch.Size([1000, 1])\n",
      "shape beta torch.Size([1000, 4])\n",
      "shape exp_torch torch.Size([1000, 5])\n",
      "shape log_sum_exp torch.Size([1000])\n",
      "Training loss at step 68: 3.8431\n",
      "shape exp torch.Size([1000, 1])\n",
      "shape exp torch.Size([1000, 1])\n",
      "shape exp torch.Size([1000, 1])\n",
      "shape exp torch.Size([1000, 1])\n",
      "shape exp torch.Size([1000, 1])\n",
      "shape beta torch.Size([1000, 4])\n",
      "shape exp_torch torch.Size([1000, 5])\n",
      "shape log_sum_exp torch.Size([1000])\n",
      "Training loss at step 69: 3.7894\n",
      "shape exp torch.Size([1000, 1])\n",
      "shape exp torch.Size([1000, 1])\n",
      "shape exp torch.Size([1000, 1])\n",
      "shape exp torch.Size([1000, 1])\n",
      "shape exp torch.Size([1000, 1])\n",
      "shape beta torch.Size([1000, 4])\n",
      "shape exp_torch torch.Size([1000, 5])\n",
      "shape log_sum_exp torch.Size([1000])\n",
      "Training loss at step 70: 3.8050\n",
      "shape exp torch.Size([1000, 1])\n",
      "shape exp torch.Size([1000, 1])\n",
      "shape exp torch.Size([1000, 1])\n",
      "shape exp torch.Size([1000, 1])\n",
      "shape exp torch.Size([1000, 1])\n",
      "shape beta torch.Size([1000, 4])\n",
      "shape exp_torch torch.Size([1000, 5])\n",
      "shape log_sum_exp torch.Size([1000])\n",
      "Training loss at step 71: 3.9175\n",
      "shape exp torch.Size([1000, 1])\n",
      "shape exp torch.Size([1000, 1])\n",
      "shape exp torch.Size([1000, 1])\n",
      "shape exp torch.Size([1000, 1])\n",
      "shape exp torch.Size([1000, 1])\n",
      "shape beta torch.Size([1000, 4])\n",
      "shape exp_torch torch.Size([1000, 5])\n",
      "shape log_sum_exp torch.Size([1000])\n",
      "Training loss at step 72: 3.7845\n",
      "shape exp torch.Size([1000, 1])\n",
      "shape exp torch.Size([1000, 1])\n",
      "shape exp torch.Size([1000, 1])\n",
      "shape exp torch.Size([1000, 1])\n",
      "shape exp torch.Size([1000, 1])\n",
      "shape beta torch.Size([1000, 4])\n",
      "shape exp_torch torch.Size([1000, 5])\n",
      "shape log_sum_exp torch.Size([1000])\n",
      "Training loss at step 73: 3.8055\n",
      "shape exp torch.Size([1000, 1])\n",
      "shape exp torch.Size([1000, 1])\n",
      "shape exp torch.Size([1000, 1])\n",
      "shape exp torch.Size([1000, 1])\n",
      "shape exp torch.Size([1000, 1])\n",
      "shape beta torch.Size([1000, 4])\n",
      "shape exp_torch torch.Size([1000, 5])\n",
      "shape log_sum_exp torch.Size([1000])\n",
      "Training loss at step 74: 3.6977\n",
      "shape exp torch.Size([1000, 1])\n",
      "shape exp torch.Size([1000, 1])\n",
      "shape exp torch.Size([1000, 1])\n",
      "shape exp torch.Size([1000, 1])\n",
      "shape exp torch.Size([1000, 1])\n",
      "shape beta torch.Size([1000, 4])\n",
      "shape exp_torch torch.Size([1000, 5])\n",
      "shape log_sum_exp torch.Size([1000])\n",
      "Training loss at step 75: 3.7970\n"
     ]
    },
    {
     "data": {
      "text/plain": "<Figure size 432x288 with 0 Axes>"
     },
     "metadata": {},
     "output_type": "display_data"
    },
    {
     "data": {
      "text/plain": "<Figure size 720x360 with 1 Axes>",
      "image/png": "[encoded data removed]"
     },
     "metadata": {
      "needs_background": "light"
     },
     "output_type": "display_data"
    },
    {
     "data": {
      "text/plain": "<Figure size 432x288 with 0 Axes>"
     },
     "metadata": {},
     "output_type": "display_data"
    },
    {
     "data": {
      "text/plain": "<Figure size 720x360 with 1 Axes>",
      "image/png": "[encoded data removed]"
     },
     "metadata": {
      "needs_background": "light"
     },
     "output_type": "display_data"
    },
    {
     "data": {
      "text/plain": "<Figure size 432x288 with 0 Axes>"
     },
     "metadata": {},
     "output_type": "display_data"
    },
    {
     "data": {
      "text/plain": "<Figure size 720x360 with 1 Axes>",
      "image/png": "[encoded data removed]"
     },
     "metadata": {
      "needs_background": "light"
     },
     "output_type": "display_data"
    },
    {
     "data": {
      "text/plain": "<Figure size 432x288 with 0 Axes>"
     },
     "metadata": {},
     "output_type": "display_data"
    },
    {
     "data": {
      "text/plain": "<Figure size 720x360 with 1 Axes>",
      "image/png": "[encoded data removed]"
     },
     "metadata": {
      "needs_background": "light"
     },
     "output_type": "display_data"
    },
    {
     "name": "stdout",
     "output_type": "stream",
     "text": [
      "shape exp torch.Size([1000, 1])\n",
      "shape exp torch.Size([1000, 1])\n",
      "shape exp torch.Size([1000, 1])\n",
      "shape exp torch.Size([1000, 1])\n",
      "shape exp torch.Size([1000, 1])\n",
      "shape beta torch.Size([1000, 4])\n",
      "shape exp_torch torch.Size([1000, 5])\n",
      "shape log_sum_exp torch.Size([1000])\n",
      "Training loss at step 76: 3.6007\n",
      "shape exp torch.Size([1000, 1])\n",
      "shape exp torch.Size([1000, 1])\n",
      "shape exp torch.Size([1000, 1])\n",
      "shape exp torch.Size([1000, 1])\n",
      "shape exp torch.Size([1000, 1])\n",
      "shape beta torch.Size([1000, 4])\n",
      "shape exp_torch torch.Size([1000, 5])\n",
      "shape log_sum_exp torch.Size([1000])\n",
      "Training loss at step 77: 3.5416\n",
      "shape exp torch.Size([1000, 1])\n",
      "shape exp torch.Size([1000, 1])\n",
      "shape exp torch.Size([1000, 1])\n",
      "shape exp torch.Size([1000, 1])\n",
      "shape exp torch.Size([1000, 1])\n",
      "shape beta torch.Size([1000, 4])\n",
      "shape exp_torch torch.Size([1000, 5])\n",
      "shape log_sum_exp torch.Size([1000])\n",
      "Training loss at step 78: 3.6715\n",
      "shape exp torch.Size([1000, 1])\n",
      "shape exp torch.Size([1000, 1])\n",
      "shape exp torch.Size([1000, 1])\n",
      "shape exp torch.Size([1000, 1])\n",
      "shape exp torch.Size([1000, 1])\n",
      "shape beta torch.Size([1000, 4])\n",
      "shape exp_torch torch.Size([1000, 5])\n",
      "shape log_sum_exp torch.Size([1000])\n",
      "Training loss at step 79: 3.5588\n",
      "shape exp torch.Size([1000, 1])\n",
      "shape exp torch.Size([1000, 1])\n",
      "shape exp torch.Size([1000, 1])\n",
      "shape exp torch.Size([1000, 1])\n",
      "shape exp torch.Size([1000, 1])\n",
      "shape beta torch.Size([1000, 4])\n",
      "shape exp_torch torch.Size([1000, 5])\n",
      "shape log_sum_exp torch.Size([1000])\n",
      "Training loss at step 80: 3.5605\n",
      "shape exp torch.Size([1000, 1])\n",
      "shape exp torch.Size([1000, 1])\n",
      "shape exp torch.Size([1000, 1])\n",
      "shape exp torch.Size([1000, 1])\n",
      "shape exp torch.Size([1000, 1])\n",
      "shape beta torch.Size([1000, 4])\n",
      "shape exp_torch torch.Size([1000, 5])\n",
      "shape log_sum_exp torch.Size([1000])\n",
      "Training loss at step 81: 3.5189\n",
      "shape exp torch.Size([1000, 1])\n",
      "shape exp torch.Size([1000, 1])\n",
      "shape exp torch.Size([1000, 1])\n",
      "shape exp torch.Size([1000, 1])\n",
      "shape exp torch.Size([1000, 1])\n",
      "shape beta torch.Size([1000, 4])\n",
      "shape exp_torch torch.Size([1000, 5])\n",
      "shape log_sum_exp torch.Size([1000])\n",
      "Training loss at step 82: 3.4707\n",
      "shape exp torch.Size([1000, 1])\n",
      "shape exp torch.Size([1000, 1])\n",
      "shape exp torch.Size([1000, 1])\n",
      "shape exp torch.Size([1000, 1])\n",
      "shape exp torch.Size([1000, 1])\n",
      "shape beta torch.Size([1000, 4])\n",
      "shape exp_torch torch.Size([1000, 5])\n",
      "shape log_sum_exp torch.Size([1000])\n",
      "Training loss at step 83: 3.4994\n",
      "shape exp torch.Size([1000, 1])\n",
      "shape exp torch.Size([1000, 1])\n",
      "shape exp torch.Size([1000, 1])\n",
      "shape exp torch.Size([1000, 1])\n",
      "shape exp torch.Size([1000, 1])\n",
      "shape beta torch.Size([1000, 4])\n",
      "shape exp_torch torch.Size([1000, 5])\n",
      "shape log_sum_exp torch.Size([1000])\n",
      "Training loss at step 84: 3.4868\n",
      "shape exp torch.Size([1000, 1])\n",
      "shape exp torch.Size([1000, 1])\n",
      "shape exp torch.Size([1000, 1])\n",
      "shape exp torch.Size([1000, 1])\n",
      "shape exp torch.Size([1000, 1])\n",
      "shape beta torch.Size([1000, 4])\n",
      "shape exp_torch torch.Size([1000, 5])\n",
      "shape log_sum_exp torch.Size([1000])\n",
      "Training loss at step 85: 3.5261\n",
      "shape exp torch.Size([1000, 1])\n",
      "shape exp torch.Size([1000, 1])\n",
      "shape exp torch.Size([1000, 1])\n",
      "shape exp torch.Size([1000, 1])\n",
      "shape exp torch.Size([1000, 1])\n",
      "shape beta torch.Size([1000, 4])\n",
      "shape exp_torch torch.Size([1000, 5])\n",
      "shape log_sum_exp torch.Size([1000])\n",
      "Training loss at step 86: 3.4486\n",
      "shape exp torch.Size([1000, 1])\n",
      "shape exp torch.Size([1000, 1])\n",
      "shape exp torch.Size([1000, 1])\n",
      "shape exp torch.Size([1000, 1])\n",
      "shape exp torch.Size([1000, 1])\n",
      "shape beta torch.Size([1000, 4])\n",
      "shape exp_torch torch.Size([1000, 5])\n",
      "shape log_sum_exp torch.Size([1000])\n",
      "Training loss at step 87: 3.3845\n",
      "shape exp torch.Size([1000, 1])\n",
      "shape exp torch.Size([1000, 1])\n",
      "shape exp torch.Size([1000, 1])\n",
      "shape exp torch.Size([1000, 1])\n",
      "shape exp torch.Size([1000, 1])\n",
      "shape beta torch.Size([1000, 4])\n",
      "shape exp_torch torch.Size([1000, 5])\n",
      "shape log_sum_exp torch.Size([1000])\n",
      "Training loss at step 88: 3.3898\n",
      "shape exp torch.Size([1000, 1])\n",
      "shape exp torch.Size([1000, 1])\n",
      "shape exp torch.Size([1000, 1])\n",
      "shape exp torch.Size([1000, 1])\n",
      "shape exp torch.Size([1000, 1])\n",
      "shape beta torch.Size([1000, 4])\n",
      "shape exp_torch torch.Size([1000, 5])\n",
      "shape log_sum_exp torch.Size([1000])\n",
      "Training loss at step 89: 3.3399\n",
      "shape exp torch.Size([1000, 1])\n",
      "shape exp torch.Size([1000, 1])\n",
      "shape exp torch.Size([1000, 1])\n",
      "shape exp torch.Size([1000, 1])\n",
      "shape exp torch.Size([1000, 1])\n",
      "shape beta torch.Size([1000, 4])\n",
      "shape exp_torch torch.Size([1000, 5])\n",
      "shape log_sum_exp torch.Size([1000])\n",
      "Training loss at step 90: 3.2838\n",
      "shape exp torch.Size([1000, 1])\n",
      "shape exp torch.Size([1000, 1])\n",
      "shape exp torch.Size([1000, 1])\n",
      "shape exp torch.Size([1000, 1])\n",
      "shape exp torch.Size([1000, 1])\n",
      "shape beta torch.Size([1000, 4])\n",
      "shape exp_torch torch.Size([1000, 5])\n",
      "shape log_sum_exp torch.Size([1000])\n",
      "Training loss at step 91: 3.2144\n",
      "shape exp torch.Size([1000, 1])\n",
      "shape exp torch.Size([1000, 1])\n",
      "shape exp torch.Size([1000, 1])\n",
      "shape exp torch.Size([1000, 1])\n",
      "shape exp torch.Size([1000, 1])\n",
      "shape beta torch.Size([1000, 4])\n",
      "shape exp_torch torch.Size([1000, 5])\n",
      "shape log_sum_exp torch.Size([1000])\n",
      "Training loss at step 92: 3.3209\n",
      "shape exp torch.Size([1000, 1])\n",
      "shape exp torch.Size([1000, 1])\n",
      "shape exp torch.Size([1000, 1])\n",
      "shape exp torch.Size([1000, 1])\n",
      "shape exp torch.Size([1000, 1])\n",
      "shape beta torch.Size([1000, 4])\n",
      "shape exp_torch torch.Size([1000, 5])\n",
      "shape log_sum_exp torch.Size([1000])\n",
      "Training loss at step 93: 3.3835\n",
      "shape exp torch.Size([1000, 1])\n",
      "shape exp torch.Size([1000, 1])\n",
      "shape exp torch.Size([1000, 1])\n",
      "shape exp torch.Size([1000, 1])\n",
      "shape exp torch.Size([1000, 1])\n",
      "shape beta torch.Size([1000, 4])\n",
      "shape exp_torch torch.Size([1000, 5])\n",
      "shape log_sum_exp torch.Size([1000])\n",
      "Training loss at step 94: 3.2810\n",
      "shape exp torch.Size([1000, 1])\n",
      "shape exp torch.Size([1000, 1])\n",
      "shape exp torch.Size([1000, 1])\n",
      "shape exp torch.Size([1000, 1])\n",
      "shape exp torch.Size([1000, 1])\n",
      "shape beta torch.Size([1000, 4])\n",
      "shape exp_torch torch.Size([1000, 5])\n",
      "shape log_sum_exp torch.Size([1000])\n",
      "Training loss at step 95: 3.2744\n",
      "shape exp torch.Size([1000, 1])\n",
      "shape exp torch.Size([1000, 1])\n",
      "shape exp torch.Size([1000, 1])\n",
      "shape exp torch.Size([1000, 1])\n",
      "shape exp torch.Size([1000, 1])\n",
      "shape beta torch.Size([1000, 4])\n",
      "shape exp_torch torch.Size([1000, 5])\n",
      "shape log_sum_exp torch.Size([1000])\n",
      "Training loss at step 96: 3.4579\n",
      "shape exp torch.Size([1000, 1])\n",
      "shape exp torch.Size([1000, 1])\n",
      "shape exp torch.Size([1000, 1])\n",
      "shape exp torch.Size([1000, 1])\n",
      "shape exp torch.Size([1000, 1])\n",
      "shape beta torch.Size([1000, 4])\n",
      "shape exp_torch torch.Size([1000, 5])\n",
      "shape log_sum_exp torch.Size([1000])\n",
      "Training loss at step 97: 3.1954\n",
      "shape exp torch.Size([1000, 1])\n",
      "shape exp torch.Size([1000, 1])\n",
      "shape exp torch.Size([1000, 1])\n",
      "shape exp torch.Size([1000, 1])\n",
      "shape exp torch.Size([1000, 1])\n",
      "shape beta torch.Size([1000, 4])\n",
      "shape exp_torch torch.Size([1000, 5])\n",
      "shape log_sum_exp torch.Size([1000])\n",
      "Training loss at step 98: 3.2748\n",
      "shape exp torch.Size([1000, 1])\n",
      "shape exp torch.Size([1000, 1])\n",
      "shape exp torch.Size([1000, 1])\n",
      "shape exp torch.Size([1000, 1])\n",
      "shape exp torch.Size([1000, 1])\n",
      "shape beta torch.Size([1000, 4])\n",
      "shape exp_torch torch.Size([1000, 5])\n",
      "shape log_sum_exp torch.Size([1000])\n",
      "Training loss at step 99: 3.1708\n",
      "shape exp torch.Size([1000, 1])\n",
      "shape exp torch.Size([1000, 1])\n",
      "shape exp torch.Size([1000, 1])\n",
      "shape exp torch.Size([1000, 1])\n",
      "shape exp torch.Size([1000, 1])\n",
      "shape beta torch.Size([1000, 4])\n",
      "shape exp_torch torch.Size([1000, 5])\n",
      "shape log_sum_exp torch.Size([1000])\n",
      "Training loss at step 100: 3.2539\n"
     ]
    },
    {
     "data": {
      "text/plain": "<Figure size 432x288 with 0 Axes>"
     },
     "metadata": {},
     "output_type": "display_data"
    },
    {
     "data": {
      "text/plain": "<Figure size 720x360 with 1 Axes>",
      "image/png": "[encoded data removed]"
     },
     "metadata": {
      "needs_background": "light"
     },
     "output_type": "display_data"
    },
    {
     "data": {
      "text/plain": "<Figure size 432x288 with 0 Axes>"
     },
     "metadata": {},
     "output_type": "display_data"
    },
    {
     "data": {
      "text/plain": "<Figure size 720x360 with 1 Axes>",
      "image/png": "[encoded data removed]"
     },
     "metadata": {
      "needs_background": "light"
     },
     "output_type": "display_data"
    },
    {
     "data": {
      "text/plain": "<Figure size 432x288 with 0 Axes>"
     },
     "metadata": {},
     "output_type": "display_data"
    },
    {
     "data": {
      "text/plain": "<Figure size 720x360 with 1 Axes>",
      "image/png": "[encoded data removed]"
     },
     "metadata": {
      "needs_background": "light"
     },
     "output_type": "display_data"
    },
    {
     "data": {
      "text/plain": "<Figure size 432x288 with 0 Axes>"
     },
     "metadata": {},
     "output_type": "display_data"
    },
    {
     "data": {
      "text/plain": "<Figure size 720x360 with 1 Axes>",
      "image/png": "[encoded data removed]"
     },
     "metadata": {
      "needs_background": "light"
     },
     "output_type": "display_data"
    },
    {
     "name": "stdout",
     "output_type": "stream",
     "text": [
      "shape exp torch.Size([1000, 1])\n",
      "shape exp torch.Size([1000, 1])\n",
      "shape exp torch.Size([1000, 1])\n",
      "shape exp torch.Size([1000, 1])\n",
      "shape exp torch.Size([1000, 1])\n",
      "shape beta torch.Size([1000, 4])\n",
      "shape exp_torch torch.Size([1000, 5])\n",
      "shape log_sum_exp torch.Size([1000])\n",
      "Training loss at step 101: 3.2365\n",
      "shape exp torch.Size([1000, 1])\n",
      "shape exp torch.Size([1000, 1])\n",
      "shape exp torch.Size([1000, 1])\n",
      "shape exp torch.Size([1000, 1])\n",
      "shape exp torch.Size([1000, 1])\n",
      "shape beta torch.Size([1000, 4])\n",
      "shape exp_torch torch.Size([1000, 5])\n",
      "shape log_sum_exp torch.Size([1000])\n",
      "Training loss at step 102: 3.1576\n",
      "shape exp torch.Size([1000, 1])\n",
      "shape exp torch.Size([1000, 1])\n",
      "shape exp torch.Size([1000, 1])\n",
      "shape exp torch.Size([1000, 1])\n",
      "shape exp torch.Size([1000, 1])\n",
      "shape beta torch.Size([1000, 4])\n",
      "shape exp_torch torch.Size([1000, 5])\n",
      "shape log_sum_exp torch.Size([1000])\n",
      "Training loss at step 103: 3.1599\n",
      "shape exp torch.Size([1000, 1])\n",
      "shape exp torch.Size([1000, 1])\n",
      "shape exp torch.Size([1000, 1])\n",
      "shape exp torch.Size([1000, 1])\n",
      "shape exp torch.Size([1000, 1])\n",
      "shape beta torch.Size([1000, 4])\n",
      "shape exp_torch torch.Size([1000, 5])\n",
      "shape log_sum_exp torch.Size([1000])\n",
      "Training loss at step 104: 3.1421\n",
      "shape exp torch.Size([1000, 1])\n",
      "shape exp torch.Size([1000, 1])\n",
      "shape exp torch.Size([1000, 1])\n",
      "shape exp torch.Size([1000, 1])\n",
      "shape exp torch.Size([1000, 1])\n",
      "shape beta torch.Size([1000, 4])\n",
      "shape exp_torch torch.Size([1000, 5])\n",
      "shape log_sum_exp torch.Size([1000])\n",
      "Training loss at step 105: 3.1493\n",
      "shape exp torch.Size([1000, 1])\n",
      "shape exp torch.Size([1000, 1])\n",
      "shape exp torch.Size([1000, 1])\n",
      "shape exp torch.Size([1000, 1])\n",
      "shape exp torch.Size([1000, 1])\n",
      "shape beta torch.Size([1000, 4])\n",
      "shape exp_torch torch.Size([1000, 5])\n",
      "shape log_sum_exp torch.Size([1000])\n",
      "Training loss at step 106: 3.1986\n",
      "shape exp torch.Size([1000, 1])\n",
      "shape exp torch.Size([1000, 1])\n",
      "shape exp torch.Size([1000, 1])\n",
      "shape exp torch.Size([1000, 1])\n",
      "shape exp torch.Size([1000, 1])\n",
      "shape beta torch.Size([1000, 4])\n",
      "shape exp_torch torch.Size([1000, 5])\n",
      "shape log_sum_exp torch.Size([1000])\n",
      "Training loss at step 107: 3.1943\n",
      "shape exp torch.Size([1000, 1])\n",
      "shape exp torch.Size([1000, 1])\n",
      "shape exp torch.Size([1000, 1])\n",
      "shape exp torch.Size([1000, 1])\n",
      "shape exp torch.Size([1000, 1])\n",
      "shape beta torch.Size([1000, 4])\n",
      "shape exp_torch torch.Size([1000, 5])\n",
      "shape log_sum_exp torch.Size([1000])\n",
      "Training loss at step 108: 3.1965\n",
      "shape exp torch.Size([1000, 1])\n",
      "shape exp torch.Size([1000, 1])\n",
      "shape exp torch.Size([1000, 1])\n",
      "shape exp torch.Size([1000, 1])\n",
      "shape exp torch.Size([1000, 1])\n",
      "shape beta torch.Size([1000, 4])\n",
      "shape exp_torch torch.Size([1000, 5])\n",
      "shape log_sum_exp torch.Size([1000])\n",
      "Training loss at step 109: 3.0355\n",
      "shape exp torch.Size([1000, 1])\n",
      "shape exp torch.Size([1000, 1])\n",
      "shape exp torch.Size([1000, 1])\n",
      "shape exp torch.Size([1000, 1])\n",
      "shape exp torch.Size([1000, 1])\n",
      "shape beta torch.Size([1000, 4])\n",
      "shape exp_torch torch.Size([1000, 5])\n",
      "shape log_sum_exp torch.Size([1000])\n",
      "Training loss at step 110: 3.0370\n",
      "shape exp torch.Size([1000, 1])\n",
      "shape exp torch.Size([1000, 1])\n",
      "shape exp torch.Size([1000, 1])\n",
      "shape exp torch.Size([1000, 1])\n",
      "shape exp torch.Size([1000, 1])\n",
      "shape beta torch.Size([1000, 4])\n",
      "shape exp_torch torch.Size([1000, 5])\n",
      "shape log_sum_exp torch.Size([1000])\n",
      "Training loss at step 111: 3.0590\n",
      "shape exp torch.Size([1000, 1])\n",
      "shape exp torch.Size([1000, 1])\n",
      "shape exp torch.Size([1000, 1])\n",
      "shape exp torch.Size([1000, 1])\n",
      "shape exp torch.Size([1000, 1])\n",
      "shape beta torch.Size([1000, 4])\n",
      "shape exp_torch torch.Size([1000, 5])\n",
      "shape log_sum_exp torch.Size([1000])\n",
      "Training loss at step 112: 3.0292\n",
      "shape exp torch.Size([1000, 1])\n",
      "shape exp torch.Size([1000, 1])\n",
      "shape exp torch.Size([1000, 1])\n",
      "shape exp torch.Size([1000, 1])\n",
      "shape exp torch.Size([1000, 1])\n",
      "shape beta torch.Size([1000, 4])\n",
      "shape exp_torch torch.Size([1000, 5])\n",
      "shape log_sum_exp torch.Size([1000])\n",
      "Training loss at step 113: 3.1344\n",
      "shape exp torch.Size([1000, 1])\n",
      "shape exp torch.Size([1000, 1])\n",
      "shape exp torch.Size([1000, 1])\n",
      "shape exp torch.Size([1000, 1])\n",
      "shape exp torch.Size([1000, 1])\n",
      "shape beta torch.Size([1000, 4])\n",
      "shape exp_torch torch.Size([1000, 5])\n",
      "shape log_sum_exp torch.Size([1000])\n",
      "Training loss at step 114: 3.1159\n",
      "shape exp torch.Size([1000, 1])\n",
      "shape exp torch.Size([1000, 1])\n",
      "shape exp torch.Size([1000, 1])\n",
      "shape exp torch.Size([1000, 1])\n",
      "shape exp torch.Size([1000, 1])\n",
      "shape beta torch.Size([1000, 4])\n",
      "shape exp_torch torch.Size([1000, 5])\n",
      "shape log_sum_exp torch.Size([1000])\n",
      "Training loss at step 115: 3.0752\n",
      "shape exp torch.Size([1000, 1])\n",
      "shape exp torch.Size([1000, 1])\n",
      "shape exp torch.Size([1000, 1])\n",
      "shape exp torch.Size([1000, 1])\n",
      "shape exp torch.Size([1000, 1])\n",
      "shape beta torch.Size([1000, 4])\n",
      "shape exp_torch torch.Size([1000, 5])\n",
      "shape log_sum_exp torch.Size([1000])\n",
      "Training loss at step 116: 3.0821\n",
      "shape exp torch.Size([1000, 1])\n",
      "shape exp torch.Size([1000, 1])\n",
      "shape exp torch.Size([1000, 1])\n",
      "shape exp torch.Size([1000, 1])\n",
      "shape exp torch.Size([1000, 1])\n",
      "shape beta torch.Size([1000, 4])\n",
      "shape exp_torch torch.Size([1000, 5])\n",
      "shape log_sum_exp torch.Size([1000])\n",
      "Training loss at step 117: 3.0367\n"
     ]
    }
   ],
   "source": [
    "torch.autograd.set_detect_anomaly(False)\n",
    "flow, loss = train_model(flow, **params)\n",
    "flow.eval()"
   ],
   "metadata": {
    "collapsed": false,
    "is_executing": true,
    "ExecuteTime": {
     "start_time": "2023-09-05T17:13:54.582478182Z"
    }
   }
  },
  {
   "cell_type": "code",
   "execution_count": 479,
   "outputs": [
    {
     "data": {
      "text/plain": "<Figure size 720x360 with 1 Axes>",
      "image/png": "[encoded data removed]"
     },
     "metadata": {
      "needs_background": "light"
     },
     "output_type": "display_data"
    }
   ],
   "source": [
    "plt.figure(figsize=(10,5))\n",
    "plt.plot(range(len(loss)), loss)\n",
    "plt.show()"
   ],
   "metadata": {
    "collapsed": false,
    "ExecuteTime": {
     "end_time": "2023-09-05T17:13:20.968135464Z",
     "start_time": "2023-09-05T17:13:20.794832483Z"
    }
   }
  },
  {
   "cell_type": "code",
   "execution_count": 432,
   "outputs": [
    {
     "name": "stderr",
     "output_type": "stream",
     "text": [
      "100%|██████████| 20/20 [00:36<00:00,  1.80s/it]\n"
     ]
    }
   ],
   "source": [
    "n_samples = 10_000# 50_000\n",
    "n_samples_plot = 1000\n",
    "samples = sample_beta (flow, sample_size=n_samples//20, n_iter=20, device=device)\n",
    "samples_reshaped = samples.reshape(-1, flow_dim)"
   ],
   "metadata": {
    "collapsed": false,
    "ExecuteTime": {
     "end_time": "2023-09-05T15:58:03.963700596Z",
     "start_time": "2023-09-05T15:57:27.875936676Z"
    }
   }
  },
  {
   "cell_type": "code",
   "execution_count": 433,
   "outputs": [
    {
     "data": {
      "text/plain": "<Figure size 720x360 with 1 Axes>",
      "image/png": "[encoded data removed]"
     },
     "metadata": {
      "needs_background": "light"
     },
     "output_type": "display_data"
    },
    {
     "data": {
      "text/plain": "<Figure size 432x288 with 0 Axes>"
     },
     "metadata": {},
     "output_type": "display_data"
    },
    {
     "data": {
      "text/plain": "<Figure size 720x360 with 1 Axes>",
      "image/png": "[encoded data removed]"
     },
     "metadata": {
      "needs_background": "light"
     },
     "output_type": "display_data"
    },
    {
     "data": {
      "text/plain": "<Figure size 432x288 with 0 Axes>"
     },
     "metadata": {},
     "output_type": "display_data"
    },
    {
     "data": {
      "text/plain": "<Figure size 720x360 with 1 Axes>",
      "image/png": "[encoded data removed]"
     },
     "metadata": {
      "needs_background": "light"
     },
     "output_type": "display_data"
    },
    {
     "data": {
      "text/plain": "<Figure size 432x288 with 0 Axes>"
     },
     "metadata": {},
     "output_type": "display_data"
    },
    {
     "data": {
      "text/plain": "<Figure size 720x360 with 1 Axes>",
      "image/png": "[encoded data removed]"
     },
     "metadata": {
      "needs_background": "light"
     },
     "output_type": "display_data"
    },
    {
     "data": {
      "text/plain": "<Figure size 432x288 with 0 Axes>"
     },
     "metadata": {},
     "output_type": "display_data"
    }
   ],
   "source": [
    "samples_spherical = cartesian_to_spherical_torch(torch.tensor(samples)).numpy()\n",
    "for i in range(1, samples_spherical.shape[1]):\n",
    "    plt.figure(figsize=(10,5))\n",
    "    #n, bins, patches = plt.hist(samples_spherical[:,i], bins=50)\n",
    "    plt.hist(samples_spherical[:,i], bins=50)\n",
    "    plt.vlines([0, np.pi * 0.5, np.pi, np.pi*1.5, 2 * np.pi], ymin=0, ymax=400, linestyles='dashed', colors='b')\n",
    "    # plt.savefig(f\"{dir_name}samples_p{q}_theta_flow.pdf\", dpi=100)\n",
    "    plt.xlim(0, 2*np.pi)\n",
    "    plt.show()\n",
    "    plt.clf()"
   ],
   "metadata": {
    "collapsed": false,
    "ExecuteTime": {
     "end_time": "2023-09-05T15:58:04.687258923Z",
     "start_time": "2023-09-05T15:58:03.954649988Z"
    }
   }
  },
  {
   "cell_type": "code",
   "execution_count": 21,
   "outputs": [
    {
     "data": {
      "text/plain": "<Figure size 1000x500 with 1 Axes>",
      "image/png": "[encoded data removed]"
     },
     "metadata": {},
     "output_type": "display_data"
    },
    {
     "data": {
      "text/plain": "<Figure size 1000x500 with 1 Axes>",
      "image/png": "[encoded data removed]"
     },
     "metadata": {},
     "output_type": "display_data"
    }
   ],
   "source": [
    "samples_spherical = cartesian_to_spherical_torch(torch.tensor(samples)).numpy()\n",
    "for i in range(1, samples_spherical.shape[1]):\n",
    "    plt.figure(figsize=(10,5))\n",
    "    n, bins, patches = plt.hist(samples_spherical[:,i], bins=50)\n",
    "    plt.vlines([0, np.pi * 0.5, np.pi, np.pi*1.5, 2 * np.pi], ymin=0, ymax=max(n), linestyles='dashed', colors='b')\n",
    "    # plt.savefig(f\"{dir_name}samples_p{q}_theta_flow.pdf\", dpi=100)\n",
    "    plt.show()"
   ],
   "metadata": {
    "collapsed": false
   }
  },
  {
   "cell_type": "code",
   "execution_count": 364,
   "outputs": [
    {
     "data": {
      "text/plain": "<Figure size 720x360 with 1 Axes>",
      "image/png": "[encoded data removed]"
     },
     "metadata": {
      "needs_background": "light"
     },
     "output_type": "display_data"
    },
    {
     "data": {
      "text/plain": "<Figure size 720x360 with 1 Axes>",
      "image/png": "[encoded data removed]"
     },
     "metadata": {
      "needs_background": "light"
     },
     "output_type": "display_data"
    }
   ],
   "source": [
    "# fig = plt.figure(figsize=(7,7))\n",
    "# ax = fig.add_subplot(projection='3d')\n",
    "# ax.scatter(samples_[:n_samples_plot,0], samples_[:n_samples_plot,1], samples_[:n_samples_plot,2], marker='.', alpha=0.5)\n",
    "# ax_min, ax_max = -1.1, 1.1\n",
    "# ax.set_xlim3d(ax_min, ax_max)\n",
    "# ax.set_ylim3d(ax_min, ax_max)\n",
    "# ax.set_zlim3d(ax_min, ax_max)\n",
    "# #plt.savefig(f\"{dir_name}samples_p{q}_flow.pdf\", dpi=100)\n",
    "# plt.show()\n",
    "\n",
    "samples_spherical = cartesian_to_spherical_torch(torch.tensor(samples)).numpy()\n",
    "for i in range(1, samples_spherical.shape[1]):\n",
    "    plt.figure(figsize=(10,5))\n",
    "    n, bins, patches = plt.hist(samples_spherical[:,i], bins=50)\n",
    "    plt.vlines([0, np.pi * 0.5, np.pi, np.pi*1.5, 2 * np.pi], ymin=0, ymax=max(n), linestyles='dashed', colors='b')\n",
    "    # plt.savefig(f\"{dir_name}samples_p{q}_theta_flow.pdf\", dpi=100)\n",
    "    plt.show()"
   ],
   "metadata": {
    "collapsed": false,
    "ExecuteTime": {
     "end_time": "2023-08-25T18:10:10.048216659Z",
     "start_time": "2023-08-25T18:10:09.759644005Z"
    }
   }
  },
  {
   "cell_type": "code",
   "execution_count": 357,
   "outputs": [
    {
     "data": {
      "text/plain": "In addition: Warning message:\nIn (function (package, help, pos = 2, lib.loc = NULL, character.only = FALSE,  :\n  libraries ‘/usr/local/lib/R/site-library’, ‘/usr/lib/R/site-library’ contain no packages\n"
     },
     "metadata": {},
     "output_type": "display_data"
    }
   ],
   "source": [
    "from rpy2.robjects.packages import importr\n",
    "rpgnorm = importr('pgnorm')\n",
    "%R -i q -i flow_dim -i n_samples -o samples samples <- rpgnorm(n_samples * flow_dim, q)\n",
    "samples = np.array(samples).reshape(-1,flow_dim)\n",
    "samples_norm = lp_norm(samples, q)"
   ],
   "metadata": {
    "collapsed": false,
    "ExecuteTime": {
     "end_time": "2023-08-25T17:58:21.869935228Z",
     "start_time": "2023-08-25T17:58:21.418479187Z"
    }
   }
  },
  {
   "cell_type": "code",
   "execution_count": 358,
   "outputs": [
    {
     "name": "stdout",
     "output_type": "stream",
     "text": [
      "torch.Size([50000])\n",
      "torch.Size([50000, 2])\n",
      "torch.Size([50000])\n"
     ]
    },
    {
     "data": {
      "text/plain": "<Figure size 720x360 with 1 Axes>",
      "image/png": "[encoded data removed]"
     },
     "metadata": {
      "needs_background": "light"
     },
     "output_type": "display_data"
    },
    {
     "data": {
      "text/plain": "<Figure size 720x360 with 1 Axes>",
      "image/png": "[encoded data removed]"
     },
     "metadata": {
      "needs_background": "light"
     },
     "output_type": "display_data"
    }
   ],
   "source": [
    "# fig = plt.figure(figsize=(7,7))\n",
    "# ax = fig.add_subplot(projection='3d')\n",
    "# ax.scatter(samples_norm[:n_samples_plot,0], samples_norm[:n_samples_plot,1], samples_norm[:n_samples_plot,2], marker='.', alpha=0.5)\n",
    "# ax_min, ax_max = -1.1, 1.1\n",
    "# ax.set_xlim3d(ax_min,ax_max)\n",
    "# ax.set_ylim3d(ax_min,ax_max)\n",
    "# ax.set_zlim3d(ax_min,ax_max)\n",
    "# #ax = plt.gca()\n",
    "# #ax.set_aspect('equal', adjustable='box')\n",
    "# #plt.savefig(f\"{dir_name}samples_p{q}_gt.pdf\", dpi=100)\n",
    "# plt.show()\n",
    "\n",
    "\n",
    "samples_spherical = cartesian_to_spherical_torch(torch.from_numpy(samples_norm)).numpy()\n",
    "for i in range(1, samples_spherical.shape[1]):\n",
    "    plt.figure(figsize=(10,5))\n",
    "    n, bins, patches = plt.hist(samples_spherical[:,i], bins=50)\n",
    "    plt.vlines([0, np.pi * 0.5, np.pi, np.pi*1.5, 2 * np.pi], ymin=0, ymax=max(n), linestyles='dashed', colors='b')\n",
    "    # plt.savefig(f\"{dir_name}samples_p{q}_theta_gt.pdf\", dpi=100)\n",
    "    plt.show()"
   ],
   "metadata": {
    "collapsed": false,
    "ExecuteTime": {
     "end_time": "2023-08-25T17:58:24.315849081Z",
     "start_time": "2023-08-25T17:58:23.913988986Z"
    }
   }
  },
  {
   "cell_type": "code",
   "execution_count": 135,
   "outputs": [],
   "source": [
    "sol_2 = n_sphere.convert_rectangular(n_sphere.convert_spherical(samples_norm))"
   ],
   "metadata": {
    "collapsed": false,
    "ExecuteTime": {
     "end_time": "2023-08-25T12:26:16.740452134Z",
     "start_time": "2023-08-25T12:26:15.610731412Z"
    }
   }
  },
  {
   "cell_type": "code",
   "execution_count": 446,
   "outputs": [
    {
     "name": "stderr",
     "output_type": "stream",
     "text": [
      "100%|██████████| 20/20 [00:53<00:00,  2.67s/it]\n"
     ]
    },
    {
     "data": {
      "text/plain": "<Figure size 720x720 with 1 Axes>",
      "image/png": "[encoded data removed]"
     },
     "metadata": {
      "needs_background": "light"
     },
     "output_type": "display_data"
    },
    {
     "data": {
      "text/plain": "<Figure size 720x360 with 1 Axes>",
      "image/png": "[encoded data removed]"
     },
     "metadata": {
      "needs_background": "light"
     },
     "output_type": "display_data"
    }
   ],
   "source": [
    "n_samples = 50_000\n",
    "n_samples_plot = 1000\n",
    "samples = sample_beta (flow, sample_size=n_samples//20, n_iter=20, device=device)\n",
    "samples = samples.reshape(-1,2)\n",
    "plt.figure(figsize=(10,10))\n",
    "plt.scatter(samples[:n_samples_plot,0], samples[:n_samples_plot,1], marker='.', alpha=0.3)\n",
    "plt.xlim(-1.1, 1.1)\n",
    "plt.ylim(-1.1, 1.1)\n",
    "ax = plt.gca()\n",
    "ax.set_aspect('equal', adjustable='box')\n",
    "plt.savefig(f\"{dir_name}samples_p{q}_flow.pdf\", dpi=100)\n",
    "plt.show()\n",
    "\n",
    "theta_ = theta_given_x_y(samples)\n",
    "plt.figure(figsize=(10,5))\n",
    "plt.hist(theta_, bins=50)\n",
    "plt.vlines([-np.pi * 0.75, -np.pi * 0.25, np.pi * 0.25, np.pi * 0.75], ymin=0, ymax=max(n), linestyles='dashed', colors='r')\n",
    "plt.vlines([-np.pi, -np.pi * 0.5, 0, np.pi * 0.5, np.pi], ymin=0, ymax=max(n), linestyles='dashed', colors='b')\n",
    "plt.savefig(f\"{dir_name}samples_p{q}_theta_flow.pdf\", dpi=100)\n",
    "plt.show()"
   ],
   "metadata": {
    "collapsed": false,
    "ExecuteTime": {
     "start_time": "2023-08-25T09:12:20.636333316Z"
    }
   }
  },
  {
   "cell_type": "code",
   "execution_count": 485,
   "outputs": [
    {
     "data": {
      "text/plain": "In addition: Warning message:\nIn (function (package, help, pos = 2, lib.loc = NULL, character.only = FALSE,  :\n  libraries ‘/usr/local/lib/R/site-library’, ‘/usr/lib/R/site-library’ contain no packages\n"
     },
     "metadata": {},
     "output_type": "display_data"
    },
    {
     "data": {
      "text/plain": "<Figure size 720x720 with 1 Axes>",
      "image/png": "[encoded data removed]"
     },
     "metadata": {
      "needs_background": "light"
     },
     "output_type": "display_data"
    },
    {
     "data": {
      "text/plain": "<Figure size 720x360 with 1 Axes>",
      "image/png": "[encoded data removed]"
     },
     "metadata": {
      "needs_background": "light"
     },
     "output_type": "display_data"
    }
   ],
   "source": [
    "from rpy2.robjects.packages import importr\n",
    "flow_dim = 3\n",
    "rpgnorm = importr('pgnorm')\n",
    "%R -i q -i flow_dim -i n_samples -o samples samples <- rpgnorm(n_samples * flow_dim, q)\n",
    "samples = np.array(samples).reshape(-1,flow_dim)\n",
    "samples_norm = lp_norm(samples, q)\n",
    "plt.figure(figsize=(10,10))\n",
    "plt.scatter(samples_norm[:n_samples_plot,0], samples_norm[:n_samples_plot,1], marker='.', alpha=0.3)\n",
    "plt.xlim(-1.1, 1.1)\n",
    "plt.ylim(-1.1, 1.1)\n",
    "ax = plt.gca()\n",
    "ax.set_aspect('equal', adjustable='box')\n",
    "plt.savefig(f\"{dir_name}samples_p{q}_gt.pdf\", dpi=100)\n",
    "plt.show()\n",
    "\n",
    "plt.figure(figsize=(10,5))\n",
    "theta_ = theta_given_x_y(samples_norm)\n",
    "n, bins, patches = plt.hist(theta_, bins=50)\n",
    "plt.vlines([-np.pi * 0.75, -np.pi * 0.25, np.pi * 0.25, np.pi * 0.75], ymin=0, ymax=max(n), linestyles='dashed', colors='r')\n",
    "plt.vlines([-np.pi, -np.pi * 0.5, 0, np.pi * 0.5, np.pi], ymin=0, ymax=max(n), linestyles='dashed', colors='b')\n",
    "plt.savefig(f\"{dir_name}samples_p{q}_theta_gt.pdf\", dpi=100)\n",
    "plt.show()"
   ],
   "metadata": {
    "collapsed": false,
    "ExecuteTime": {
     "start_time": "2023-08-25T09:31:17.587124360Z"
    }
   }
  },
  {
   "cell_type": "code",
   "execution_count": null,
   "outputs": [],
   "source": [],
   "metadata": {
    "collapsed": false
   }
  }
 ],
 "metadata": {
  "kernelspec": {
   "display_name": "Python 3",
   "language": "python",
   "name": "python3"
  },
  "language_info": {
   "codemirror_mode": {
    "name": "ipython",
    "version": 2
   },
   "file_extension": ".py",
   "mimetype": "text/x-python",
   "name": "python",
   "nbconvert_exporter": "python",
   "pygments_lexer": "ipython2",
   "version": "2.7.6"
  }
 },
 "nbformat": 4,
 "nbformat_minor": 0
}
