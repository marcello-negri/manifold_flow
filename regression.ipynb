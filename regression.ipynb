{
 "cells": [
  {
   "cell_type": "code",
   "execution_count": 3,
   "outputs": [],
   "source": [
    "import matplotlib.pyplot as plt\n",
    "import seaborn as sns\n",
    "import numpy as np\n",
    "import torch\n",
    "import time\n",
    "from datetime import timedelta\n",
    "\n",
    "import n_sphere\n",
    "import tqdm\n",
    "from enflows.distributions import StandardNormal, Uniform, DiagonalNormal\n",
    "from enflows.transforms import Sigmoid, ScalarScale, ScalarShift, RandomPermutation, MaskedSumOfSigmoidsTransform\n",
    "from enflows.transforms.normalization import ActNorm\n",
    "from enflows.transforms.base import CompositeTransform, InverseTransform\n",
    "from enflows.transforms.lipschitz import LipschitzDenseNetBuilder, iResBlock\n",
    "from enflows.nn.nets.activations import Sin\n",
    "from enflows.nn.nets import ResidualNet\n",
    "from enflows.flows.base import Flow\n",
    "from enflows.transforms.injective import FixedNorm, ConditionalFixedNorm, ConstrainedAnglesSigmoid, ResidualNetInput\n",
    "from sklearn.linear_model import LinearRegression, Lasso, LassoCV, LassoLarsIC, Ridge\n",
    "from sklearn.datasets import load_diabetes\n",
    "from sklearn.preprocessing import StandardScaler"
   ],
   "metadata": {
    "collapsed": false,
    "ExecuteTime": {
     "end_time": "2023-08-29T13:49:12.441036803Z",
     "start_time": "2023-08-29T13:49:09.614511425Z"
    }
   }
  },
  {
   "cell_type": "code",
   "execution_count": 4,
   "outputs": [],
   "source": [
    "%load_ext rpy2.ipython\n",
    "%load_ext autoreload\n",
    "%autoreload 2"
   ],
   "metadata": {
    "collapsed": false,
    "ExecuteTime": {
     "end_time": "2023-08-29T13:49:13.200921208Z",
     "start_time": "2023-08-29T13:49:12.437470768Z"
    }
   }
  },
  {
   "cell_type": "code",
   "execution_count": 5,
   "outputs": [],
   "source": [
    "def set_random_seeds (seed=1234):\n",
    "    np.random.seed(seed)\n",
    "    torch.manual_seed(seed)\n"
   ],
   "metadata": {
    "collapsed": false,
    "ExecuteTime": {
     "end_time": "2023-08-29T13:49:16.059344035Z",
     "start_time": "2023-08-29T13:49:15.931732491Z"
    }
   }
  },
  {
   "cell_type": "code",
   "execution_count": 6,
   "outputs": [],
   "source": [
    "def load_diabetes_dataset(device='cuda'):\n",
    "    df = load_diabetes()\n",
    "    scaler = StandardScaler()\n",
    "    X_np = scaler.fit_transform(df.data)\n",
    "    y_np = scaler.fit_transform(df.target.reshape(-1, 1))[:, 0]\n",
    "    X_tensor = torch.from_numpy(X_np).float().to(device)\n",
    "    y_tensor = torch.from_numpy(y_np).float().to(device)\n",
    "\n",
    "    # compute regression parameters\n",
    "    reg = LinearRegression().fit(X_np, y_np)\n",
    "    r2_score = reg.score(X_np, y_np)\n",
    "    print(f\"R^2 score: {r2_score:.4f}\")\n",
    "    sigma_regr = np.sqrt(np.mean(np.square(y_np - X_np @ reg.coef_)))\n",
    "    print(f\"Sigma regression: {sigma_regr:.4f}\")\n",
    "    print(f\"Norm coefficients: {np.linalg.norm(reg.coef_):.4f}\")\n",
    "\n",
    "    return X_tensor, y_tensor, X_np, y_np"
   ],
   "metadata": {
    "collapsed": false,
    "ExecuteTime": {
     "end_time": "2023-08-29T13:49:16.137441357Z",
     "start_time": "2023-08-29T13:49:16.046547308Z"
    }
   }
  },
  {
   "cell_type": "code",
   "execution_count": 61,
   "outputs": [],
   "source": [
    "def log_prior_beta(beta: torch.Tensor, lamb: torch.Tensor):\n",
    "\n",
    "    log_prior = - lamb * beta.abs().sum(-1)\n",
    "    log_prior_const = beta.shape[-1] * torch.log(0.5 * lamb)\n",
    "\n",
    "    return log_prior + log_prior_const\n",
    "\n",
    "def log_prior_ridge(beta: torch.Tensor, lamb: torch.Tensor):\n",
    "\n",
    "    log_prior = - lamb * beta.square().sum(-1).sqrt()\n",
    "    #log_prior_const = beta.shape[-1] * torch.log(0.5 * lamb)\n",
    "\n",
    "    return log_prior #+ log_prior_const\n",
    "\n",
    "def log_prior_angles(beta:torch.Tensor):\n",
    "    beta_spherical = cartesian_to_spherical_torch(beta)\n",
    "    \n",
    "\n",
    "def log_likelihood(beta: torch.Tensor, sigma: torch.Tensor, X: torch.Tensor, y: torch.Tensor, ):\n",
    "\n",
    "    eps = 1e-7\n",
    "    log_lk = - 0.5 * (y - beta @ X.T).square().sum(-1) / (sigma**2 + eps)\n",
    "    log_lk_const = - X.shape[0] * torch.log((sigma + eps) * np.sqrt(2. * np.pi))\n",
    "\n",
    "    return log_lk + log_lk_const\n",
    "\n",
    "def log_unnorm_posterior(beta: torch.Tensor, X: torch.Tensor, y: torch.Tensor,\n",
    "                         lamb: torch.Tensor, sigma: torch.Tensor):\n",
    "\n",
    "    log_likelihood_ = log_likelihood(beta, sigma, X, y)\n",
    "    log_prior_beta_ = log_prior_beta(beta, lamb)\n",
    "    \n",
    "    return log_likelihood_ + log_prior_beta_"
   ],
   "metadata": {
    "collapsed": false,
    "ExecuteTime": {
     "end_time": "2023-08-29T14:10:56.717967727Z",
     "start_time": "2023-08-29T14:10:56.630745651Z"
    }
   }
  },
  {
   "cell_type": "code",
   "execution_count": 35,
   "outputs": [],
   "source": [
    "def spherical_to_cartesian_torch(arr):\n",
    "    # meant for batches of vectors, i.e. arr.shape = (mb, n)\n",
    "    \n",
    "    assert arr.shape[1] >= 2\n",
    "    r = arr[:, :1]\n",
    "    angles = arr[:, 1:]\n",
    "    \n",
    "    sin_prods = torch.cumprod(torch.sin(angles), dim=1)\n",
    "    x1 = r * torch.cos(angles[:, :1])\n",
    "    xs = r * sin_prods[:, :-1] * torch.cos(angles[:, 1:])\n",
    "    xn = r * sin_prods[:, -1:]\n",
    "\n",
    "    return torch.cat((x1, xs, xn), dim=1)\n",
    "\n",
    "def cartesian_to_spherical_torch(arr):\n",
    "    # meant for batches of vectors, i.e. arr.shape = (mb, n)\n",
    "    assert arr.shape[1] >= 2\n",
    "    radius = torch.linalg.norm(arr, dim=1)\n",
    "    flipped_cumsum = torch.cumsum(torch.flip(arr ** 2, dims=(1,)), dim=1)\n",
    "    sqrt_sums = torch.flip(torch.sqrt(flipped_cumsum), dims=(1,))[:,:-1]\n",
    "    angles = torch.acos(arr[:, :-1] / sqrt_sums)\n",
    "    last_angle = ((arr[:,-1] >= 0).float() * angles[:, -1] + \\\n",
    "                (arr[:,-1] < 0).float() * (2 * np.pi - angles[:, -1]))\n",
    "\n",
    "    return torch.cat((radius.unsqueeze(1), angles[:, :-1], last_angle.unsqueeze(1)), dim=1)"
   ],
   "metadata": {
    "collapsed": false,
    "ExecuteTime": {
     "end_time": "2023-08-29T13:59:20.002742236Z",
     "start_time": "2023-08-29T13:59:19.962916096Z"
    }
   }
  },
  {
   "cell_type": "code",
   "execution_count": 36,
   "outputs": [],
   "source": [
    "def build_flow_manifold (flow_dim, norm, q, n_layers=3, hidden_features=256, device='cuda'):\n",
    "    # base distribution over flattened triangular matrix\n",
    "    base_dist = StandardNormal(shape=[flow_dim-1])\n",
    "    # low = torch.tensor(-1.).to(device)\n",
    "    # high = torch.tensor(1.).to(device)\n",
    "    # base_dist = Uniform(shape=[flow_dim-1], low=low, high=high)\n",
    "\n",
    "    # Define an invertible transformation\n",
    "    transformation_layers = []\n",
    "\n",
    "    for _ in range(n_layers):\n",
    "        #transformation_layers.append(RandomPermutation(features=flow_dim-1))\n",
    "\n",
    "        \n",
    "        \n",
    "        transformation_layers.append(\n",
    "            InverseTransform(\n",
    "                MaskedSumOfSigmoidsTransform(features=flow_dim-1, hidden_features=hidden_features, num_blocks=3, n_sigmoids=30)\n",
    "            )\n",
    "        )\n",
    "        \n",
    "        transformation_layers.append(\n",
    "           InverseTransform(\n",
    "               ActNorm(features=flow_dim-1)\n",
    "           )\n",
    "        )\n",
    "\n",
    "\n",
    "    # transformation_layers.append(\n",
    "    #    transforms.InverseTransform(\n",
    "    #            ScalarScale(scale=5, trainable=False)\n",
    "    #        )\n",
    "    # )\n",
    "\n",
    "    # transformation_layers.append(\n",
    "    #    InverseTransform(\n",
    "    #            CompositeTransform([\n",
    "    #                Sigmoid(),\n",
    "    #                ScalarScale(scale=20, trainable=False),\n",
    "    #                ScalarShift(shift=-10, trainable=False)]\n",
    "    #            )\n",
    "    #        )\n",
    "    # )\n",
    "    \n",
    "    transformation_layers.append(\n",
    "        InverseTransform(\n",
    "                ConstrainedAnglesSigmoid(temperature=1, learn_temperature=False)\n",
    "            )\n",
    "    )\n",
    "    \n",
    "    \n",
    "    transformation_layers.append(\n",
    "        InverseTransform(\n",
    "            FixedNorm(norm=norm, q=q)\n",
    "        )\n",
    "    )\n",
    "\n",
    "    transformation_layers = transformation_layers[::-1]\n",
    "    transform = CompositeTransform(transformation_layers)\n",
    "\n",
    "    # combine into a flow\n",
    "    flow = Flow(transform, base_dist).to(device)\n",
    "\n",
    "    return flow\n",
    "\n",
    "def build_cond_flow_lipshitz_manifold (flow_dim, norm, q, n_layers=3, hidden_features=256, device='cuda'):\n",
    "    # base distribution over flattened triangular matrix\n",
    "    base_dist = StandardNormal(shape=[flow_dim-1])\n",
    "\n",
    "    densenet_builder = LipschitzDenseNetBuilder(input_channels=flow_dim-1,\n",
    "                                                densenet_depth=5,\n",
    "                                                activation_function=Sin(w0=30),\n",
    "                                                lip_coeff=.97,\n",
    "                                                )\n",
    "\n",
    "    transform_layers = []\n",
    "    for i in range(n_layers):\n",
    "        transform_layers.append(InverseTransform(ActNorm(features=flow_dim-1)))\n",
    "        transform_layers.append(InverseTransform(iResBlock(densenet_builder.build_network(), brute_force=False)))\n",
    "    \n",
    "    transform_layers.append(\n",
    "        InverseTransform(\n",
    "                ConstrainedAnglesSigmoid()\n",
    "            )\n",
    "    )\n",
    "    transform_layers.append(\n",
    "        InverseTransform(\n",
    "            FixedNorm(norm=norm, q=q)\n",
    "        )\n",
    "    )\n",
    "\n",
    "    transform_layers = transform_layers[::-1]\n",
    "    transform = CompositeTransform(transform_layers)\n",
    "\n",
    "    flow = Flow(transform, base_dist).to(device)\n",
    "\n",
    "    return flow"
   ],
   "metadata": {
    "collapsed": false,
    "ExecuteTime": {
     "end_time": "2023-08-29T13:59:20.295596814Z",
     "start_time": "2023-08-29T13:59:20.236317353Z"
    }
   }
  },
  {
   "cell_type": "code",
   "execution_count": 37,
   "outputs": [],
   "source": [
    "def build_cond_flow_manifold (flow_dim, q, n_layers=3, context_features=16, hidden_features=256, device='cuda'):\n",
    "    # base distribution over flattened triangular matrix\n",
    "    base_dist = StandardNormal(shape=[flow_dim-1])\n",
    "\n",
    "    # Define an invertible transformation\n",
    "    transformation_layers = []\n",
    "\n",
    "    for _ in range(n_layers):\n",
    "        transformation_layers.append(RandomPermutation(features=flow_dim-1))\n",
    "\n",
    "        transformation_layers.append(\n",
    "            InverseTransform(\n",
    "                MaskedSumOfSigmoidsTransform(features=flow_dim-1, hidden_features=hidden_features,\n",
    "                                             context_features=context_features, num_blocks=5, n_sigmoids=30)\n",
    "            )\n",
    "        )\n",
    "        \n",
    "        transformation_layers.append(\n",
    "            InverseTransform(\n",
    "                ActNorm(features=flow_dim-1)\n",
    "            )\n",
    "        )\n",
    "\n",
    "    transformation_layers.append(\n",
    "        InverseTransform(\n",
    "                ConstrainedAnglesSigmoid(temperature=1, learn_temperature=False)\n",
    "            )\n",
    "    )\n",
    "    \n",
    "    \n",
    "    transformation_layers.append(\n",
    "        InverseTransform(\n",
    "            ConditionalFixedNorm(q=q)\n",
    "        )\n",
    "    )\n",
    "\n",
    "    transformation_layers = transformation_layers[::-1]\n",
    "    transform = CompositeTransform(transformation_layers)\n",
    "\n",
    "    # define embedding (conditional) network\n",
    "    embedding_net = ResidualNetInput(in_features=1, out_features=context_features, hidden_features=256,\n",
    "                                    num_blocks=3, activation=torch.nn.functional.relu)\n",
    "\n",
    "    # combine into a flow\n",
    "    flow = Flow(transform, base_dist, embedding_net=embedding_net).to(device)\n",
    "    \n",
    "    return flow"
   ],
   "metadata": {
    "collapsed": false,
    "ExecuteTime": {
     "end_time": "2023-08-29T13:59:20.537963698Z",
     "start_time": "2023-08-29T13:59:20.500961187Z"
    }
   }
  },
  {
   "cell_type": "code",
   "execution_count": 38,
   "outputs": [],
   "source": [
    "def gen_cooling_schedule(T0, Tn, num_iter, scheme):\n",
    "    def cooling_schedule(t):\n",
    "        if t < num_iter:\n",
    "            k = t / num_iter\n",
    "            if scheme == 'exp_mult':\n",
    "                alpha = Tn / T0\n",
    "                return T0 * (alpha ** k)\n",
    "            #elif scheme == 'log_mult':\n",
    "            #    return T0 / (1 + alpha * math.log(1 + k))\n",
    "            elif scheme == 'lin_mult':\n",
    "                alpha = (T0 / Tn - 1)\n",
    "                return T0 / (1 + alpha * k)\n",
    "            elif scheme == 'quad_mult':\n",
    "                alpha = (T0 / Tn - 1)\n",
    "                return T0 / (1 + alpha * (k ** 2))\n",
    "        else:\n",
    "            return Tn\n",
    "    return cooling_schedule"
   ],
   "metadata": {
    "collapsed": false,
    "ExecuteTime": {
     "end_time": "2023-08-29T13:59:20.752149286Z",
     "start_time": "2023-08-29T13:59:20.709429067Z"
    }
   }
  },
  {
   "cell_type": "code",
   "execution_count": 355,
   "outputs": [],
   "source": [
    "def train_cond_model(model, X, y, sigma, epochs=2_001, lr=1e-3, sample_size=1, context_size=1_000, norm_min_exp=-1, norm_max_exp=1., norm_min=-1, norm_max=1., T0=5, Tn=1e-2, iter_per_cool_step=20, device=\"cuda\", **kwargs,):\n",
    "\n",
    "    optimizer = torch.optim.Adam(model.parameters(), lr=lr)\n",
    "\n",
    "    # set up cooling schedule\n",
    "    num_iter = epochs // iter_per_cool_step\n",
    "    cooling_function = gen_cooling_schedule(T0=T0, Tn=Tn, num_iter=num_iter - 1, scheme='exp_mult')\n",
    "\n",
    "    loss, loss_T = [], []\n",
    "    try:\n",
    "        start_time = time.monotonic()\n",
    "        for epoch in range(epochs):\n",
    "            T = cooling_function(epoch // (epochs / num_iter))\n",
    "            optimizer.zero_grad()\n",
    "            \n",
    "            rand_norm = torch.rand(context_size).to(device)\n",
    "            # log_uniform_norm = 10 ** (rand_norm * (norm_max_exp - norm_min_exp) + norm_min_exp).view(-1, 1)\n",
    "            uniform_norm = (rand_norm * (norm_max - norm_min) + norm_min).view(-1, 1)\n",
    "\n",
    "            q_samples, q_log_prob = model.sample_and_log_prob(num_samples=sample_size, context=uniform_norm)\n",
    "            if torch.any(torch.isnan(q_samples)): breakpoint()\n",
    "\n",
    "            log_lik = log_likelihood(beta=q_samples, sigma=sigma, X=X, y=y)\n",
    "            # log_lik = log_unnorm_posterior(beta=q_samples, sigma=sigma, X=X, y=y, lamb=torch.tensor(200.))\n",
    "            # log_lik = uniform_p_norm(beta=q_log_prob)\n",
    "            kl_div = torch.mean(q_log_prob - log_lik/ T)\n",
    "            kl_div.backward()\n",
    "            \n",
    "            # entropy = torch.mean(q_log_prob)\n",
    "            # entropy.backward()\n",
    "            \n",
    "            optimizer.step()\n",
    "\n",
    "            # loss.append(torch.mean(q_log_prob_beta - log_lik).cpu().detach().numpy())\n",
    "            loss.append(torch.mean(q_log_prob - log_lik).cpu().detach().numpy())\n",
    "            loss_T.append(torch.mean(q_log_prob - log_lik/T).cpu().detach().numpy())\n",
    "            print(f\"Training loss at step {epoch}: {loss[-1]:.1f} and {loss_T[-1]:.1f} * (T = {T:.3f})\")\n",
    "\n",
    "\n",
    "    except KeyboardInterrupt:\n",
    "        print(\"interrupted..\")\n",
    "\n",
    "    end_time = time.monotonic()\n",
    "    time_diff = timedelta(seconds=end_time - start_time)\n",
    "    print(f\"Training took {time_diff} seconds\")\n",
    "\n",
    "    return model, loss, loss_T"
   ],
   "metadata": {
    "collapsed": false,
    "ExecuteTime": {
     "end_time": "2023-08-30T14:45:09.453379220Z",
     "start_time": "2023-08-30T14:45:09.374073714Z"
    }
   }
  },
  {
   "cell_type": "code",
   "execution_count": 356,
   "outputs": [],
   "source": [
    "def train_model(model, X, y, sigma, epochs=2_001, lr=1e-3, sample_size=1, device=\"cuda\", **kwargs):\n",
    "\n",
    "    # optimizer = torch.optim.Adam([{'params':model.parameters()}, {'params':log_sigma, 'lr':1e-2}], lr=lr)\n",
    "    optimizer = torch.optim.Adam(model.parameters(), lr=lr)\n",
    "    # scheduler = torch.optim.lr_scheduler.ExponentialLR(optimizer, gamma=0.95)\n",
    "\n",
    "    loss = []\n",
    "    try:\n",
    "        start_time = time.monotonic()\n",
    "        for epoch in range(epochs):\n",
    "            model.train()\n",
    "            \n",
    "            optimizer.zero_grad()\n",
    "            q_samples, q_log_prob = model.sample_and_log_prob(num_samples=sample_size)\n",
    "            if torch.any(torch.isnan(q_samples)): breakpoint()\n",
    "            \n",
    "            log_lik = log_likelihood(beta=q_samples, sigma=sigma, X=X, y=y)\n",
    "            # log_lik = uniform_p_norm(beta=q_log_prob)\n",
    "            kl_div = torch.mean(q_log_prob - log_lik)\n",
    "            kl_div.backward()\n",
    "            \n",
    "            # entropy = torch.mean(q_log_prob)\n",
    "            # entropy.backward()\n",
    "            \n",
    "            optimizer.step()\n",
    "\n",
    "            # loss.append(torch.mean(q_log_prob_beta - log_lik).cpu().detach().numpy())\n",
    "            loss.append(torch.mean(q_log_prob - log_lik).cpu().detach().numpy())\n",
    "            print(q_samples)\n",
    "\n",
    "            print(f\"Training loss at step {epoch}: {loss[-1]:.4f}\")\n",
    "            \n",
    "    except KeyboardInterrupt:\n",
    "        print(\"interrupted..\")\n",
    "\n",
    "    end_time = time.monotonic()\n",
    "    time_diff = timedelta(seconds=end_time - start_time)\n",
    "    print(f\"Training took {time_diff} seconds\")\n",
    "\n",
    "    return model, loss"
   ],
   "metadata": {
    "collapsed": false,
    "ExecuteTime": {
     "end_time": "2023-08-30T14:45:09.523930047Z",
     "start_time": "2023-08-30T14:45:09.439188122Z"
    }
   }
  },
  {
   "cell_type": "code",
   "execution_count": 357,
   "outputs": [],
   "source": [
    "# def sample_beta (model, sample_size=100, n_iter=500, device='cuda'):\n",
    "#     # Sample from approximate posterior & estimate significant edges via  posterior credible interval\n",
    "#     samples = []\n",
    "#     for _ in tqdm.tqdm(range(n_iter)):\n",
    "#         posterior_samples, log_probs_samples = model.sample_and_log_prob(sample_size)\n",
    "#         samples.append(posterior_samples.cpu().detach().numpy())\n",
    "# \n",
    "#     return np.concatenate(samples, 0)\n",
    "\n",
    "def sample_beta_exp(model, X, y, sigma, norm_min_exp, norm_max_exp, context_size=10, sample_size=100, n_iter=100):\n",
    "    # Sample from approximate posterior & estimate significant edges via  posterior credible interval\n",
    "    sample_list, kl_list, norm_list = [], [], []\n",
    "    eps = 1e-7\n",
    "    for _ in tqdm.tqdm(range(n_iter)):\n",
    "        rand_norm = torch.rand(context_size).cuda()\n",
    "        uniform_norm = 10 ** (rand_norm * (norm_max_exp - norm_min_exp) + norm_min_exp).view(-1, 1)\n",
    "        posterior_samples, log_probs_samples = model.sample_and_log_prob(sample_size, context=uniform_norm)\n",
    "        sample_list.append(posterior_samples.cpu().detach().numpy())\n",
    "        norm_list.append(uniform_norm.view(-1).cpu().detach().numpy())\n",
    "        log_lik = log_likelihood(beta=posterior_samples, sigma=sigma, X=X, y=y)\n",
    "        kl_div = log_probs_samples - log_lik\n",
    "        kl_list.append(kl_div.cpu().detach().numpy())\n",
    "\n",
    "    sample_list, norm_list, kl_list = np.concatenate(sample_list, 0), np.concatenate(norm_list, 0), np.concatenate(kl_list, 0)\n",
    "\n",
    "    norm_sorted_idx = norm_list.argsort()\n",
    "    samples_sorted, norm_sorted, kl_sorted = sample_list[norm_sorted_idx], norm_list[norm_sorted_idx], kl_list[norm_sorted_idx]\n",
    "\n",
    "    return samples_sorted, norm_sorted, kl_sorted\n",
    "\n",
    "def sample_beta(model, X, y, sigma, norm_min, norm_max, context_size=10, sample_size=100, n_iter=100):\n",
    "    # Sample from approximate posterior & estimate significant edges via  posterior credible interval\n",
    "    sample_list, kl_list, norm_list = [], [], []\n",
    "    eps = 1e-7\n",
    "    for _ in tqdm.tqdm(range(n_iter)):\n",
    "        rand_norm = torch.rand(context_size).cuda()\n",
    "        uniform_norm = (rand_norm * (norm_max - norm_min) + norm_min).view(-1, 1)\n",
    "        posterior_samples, log_probs_samples = model.sample_and_log_prob(sample_size, context=uniform_norm)\n",
    "        sample_list.append(posterior_samples.cpu().detach().numpy())\n",
    "        norm_list.append(uniform_norm.view(-1).cpu().detach().numpy())\n",
    "        log_lik = log_likelihood(beta=posterior_samples, sigma=sigma, X=X, y=y)\n",
    "        kl_div = log_probs_samples - log_lik\n",
    "        kl_list.append(kl_div.cpu().detach().numpy())\n",
    "\n",
    "    sample_list, norm_list, kl_list = np.concatenate(sample_list, 0), np.concatenate(norm_list, 0), np.concatenate(kl_list, 0)\n",
    "\n",
    "    norm_sorted_idx = norm_list.argsort()\n",
    "    samples_sorted, norm_sorted, kl_sorted = sample_list[norm_sorted_idx], norm_list[norm_sorted_idx], kl_list[norm_sorted_idx]\n",
    "\n",
    "    return samples_sorted, norm_sorted, kl_sorted"
   ],
   "metadata": {
    "collapsed": false,
    "ExecuteTime": {
     "end_time": "2023-08-30T14:45:09.551346433Z",
     "start_time": "2023-08-30T14:45:09.523771828Z"
    }
   }
  },
  {
   "cell_type": "code",
   "execution_count": 358,
   "outputs": [],
   "source": [
    "def lp_norm(arr, p):\n",
    "    norm = np.sum(np.power(np.abs(arr), p), 1)\n",
    "    norm = np.power(norm, 1/p).reshape(-1,1)\n",
    "    return arr/norm\n",
    "\n",
    "def theta_given_x_y(arr):\n",
    "    x_, y_ = arr[:,0], arr[:,1]\n",
    "    theta_ = np.arctan2(y_,x_)\n",
    "    return theta_"
   ],
   "metadata": {
    "collapsed": false,
    "ExecuteTime": {
     "end_time": "2023-08-30T14:45:09.606713961Z",
     "start_time": "2023-08-30T14:45:09.554757500Z"
    }
   }
  },
  {
   "cell_type": "code",
   "execution_count": 359,
   "outputs": [],
   "source": [
    "import os\n",
    "dir_name = \"./plots/\"\n",
    "if not os.path.exists(dir_name):\n",
    "    # If it doesn't exist, create it\n",
    "    os.makedirs(dir_name)"
   ],
   "metadata": {
    "collapsed": false,
    "ExecuteTime": {
     "end_time": "2023-08-30T14:45:10.198600302Z",
     "start_time": "2023-08-30T14:45:10.160034966Z"
    }
   }
  },
  {
   "cell_type": "code",
   "execution_count": 534,
   "outputs": [
    {
     "name": "stdout",
     "output_type": "stream",
     "text": [
      "R^2 score: 0.5177\n",
      "Sigma regression: 0.6944\n",
      "Norm coefficients: 0.8511\n"
     ]
    }
   ],
   "source": [
    "device = 'cuda'\n",
    "set_random_seeds(1234)\n",
    "\n",
    "# load data\n",
    "X_tensor, y_tensor, X_np, y_np = load_diabetes_dataset(device=device)\n",
    "\n",
    "# build model\n",
    "flow_dim = X_tensor.shape[1]\n",
    "q = .75\n",
    "# flow = build_flow_manifold(flow_dim, norm=norm, q=q, n_layers=3, hidden_features=64, device=device)\n",
    "flow = build_cond_flow_manifold(flow_dim, q=q, n_layers=3, context_features=64, hidden_features=64, device=device)\n",
    "\n",
    "params = dict(q=q,\n",
    "              sigma=torch.tensor(0.7),\n",
    "              lr=1e-3,\n",
    "              epochs=200,\n",
    "              T0=5,\n",
    "              Tn=1,\n",
    "              iter_per_cool_step=10,\n",
    "              norm_min_exp=-2,\n",
    "              norm_max_exp=0,#.4\n",
    "              norm_min=0.01,\n",
    "              norm_max=5,#.4\n",
    "              sample_size=1,\n",
    "              context_size=100,\n",
    "              device=device)"
   ],
   "metadata": {
    "collapsed": false,
    "ExecuteTime": {
     "end_time": "2023-08-30T16:34:53.272940687Z",
     "start_time": "2023-08-30T16:34:53.199401438Z"
    }
   }
  },
  {
   "cell_type": "code",
   "execution_count": null,
   "outputs": [
    {
     "name": "stdout",
     "output_type": "stream",
     "text": [
      "Training loss at step 0: 946.2 and 194.1 * (T = 5.000)\n",
      "Training loss at step 1: 843.8 and 174.2 * (T = 5.000)\n",
      "Training loss at step 2: 727.2 and 152.8 * (T = 5.000)\n",
      "Training loss at step 3: 731.0 and 151.7 * (T = 5.000)\n",
      "Training loss at step 4: 661.6 and 139.7 * (T = 5.000)\n",
      "Training loss at step 5: 646.8 and 139.2 * (T = 5.000)\n",
      "Training loss at step 6: 626.3 and 137.6 * (T = 5.000)\n",
      "Training loss at step 7: 599.4 and 133.2 * (T = 5.000)\n",
      "Training loss at step 8: 585.4 and 129.4 * (T = 5.000)\n",
      "Training loss at step 9: 579.3 and 128.8 * (T = 5.000)\n",
      "Training loss at step 10: 578.3 and 137.0 * (T = 4.594)\n",
      "Training loss at step 11: 568.8 and 134.4 * (T = 4.594)\n",
      "Training loss at step 12: 569.1 and 134.7 * (T = 4.594)\n",
      "Training loss at step 13: 564.3 and 133.3 * (T = 4.594)\n",
      "Training loss at step 14: 566.9 and 134.8 * (T = 4.594)\n",
      "Training loss at step 15: 562.0 and 133.6 * (T = 4.594)\n",
      "Training loss at step 16: 546.2 and 129.3 * (T = 4.594)\n",
      "Training loss at step 17: 562.2 and 134.7 * (T = 4.594)\n",
      "Training loss at step 18: 550.7 and 131.0 * (T = 4.594)\n",
      "Training loss at step 19: 560.2 and 134.8 * (T = 4.594)\n",
      "Training loss at step 20: 558.7 and 144.2 * (T = 4.221)\n",
      "Training loss at step 21: 545.8 and 140.4 * (T = 4.221)\n",
      "Training loss at step 22: 546.8 and 140.8 * (T = 4.221)\n",
      "Training loss at step 23: 557.3 and 142.6 * (T = 4.221)\n",
      "Training loss at step 24: 551.9 and 140.6 * (T = 4.221)\n",
      "Training loss at step 25: 552.2 and 141.5 * (T = 4.221)\n",
      "Training loss at step 26: 549.1 and 140.5 * (T = 4.221)\n",
      "Training loss at step 27: 560.3 and 145.0 * (T = 4.221)\n",
      "Training loss at step 28: 553.2 and 142.6 * (T = 4.221)\n",
      "Training loss at step 29: 550.6 and 142.3 * (T = 4.221)\n",
      "Training loss at step 30: 556.9 and 156.1 * (T = 3.878)\n",
      "Training loss at step 31: 539.4 and 149.4 * (T = 3.878)\n",
      "Training loss at step 32: 535.3 and 148.8 * (T = 3.878)\n",
      "Training loss at step 33: 546.3 and 151.5 * (T = 3.878)\n",
      "Training loss at step 34: 545.1 and 151.8 * (T = 3.878)\n",
      "Training loss at step 35: 539.4 and 149.6 * (T = 3.878)\n",
      "Training loss at step 36: 543.5 and 150.8 * (T = 3.878)\n",
      "Training loss at step 37: 547.9 and 153.1 * (T = 3.878)\n",
      "Training loss at step 38: 552.4 and 153.8 * (T = 3.878)\n",
      "Training loss at step 39: 544.2 and 151.3 * (T = 3.878)\n",
      "Training loss at step 40: 544.7 and 164.4 * (T = 3.563)\n",
      "Training loss at step 41: 537.3 and 162.1 * (T = 3.563)\n",
      "Training loss at step 42: 547.8 and 166.1 * (T = 3.563)\n",
      "Training loss at step 43: 539.9 and 162.6 * (T = 3.563)\n",
      "Training loss at step 44: 543.6 and 164.3 * (T = 3.563)\n",
      "Training loss at step 45: 537.0 and 161.8 * (T = 3.563)\n",
      "Training loss at step 46: 540.8 and 163.3 * (T = 3.563)\n",
      "Training loss at step 47: 545.3 and 164.2 * (T = 3.563)\n",
      "Training loss at step 48: 537.9 and 161.9 * (T = 3.563)\n",
      "Training loss at step 49: 542.9 and 163.5 * (T = 3.563)\n",
      "Training loss at step 50: 542.9 and 176.4 * (T = 3.274)\n",
      "Training loss at step 51: 540.0 and 176.1 * (T = 3.274)\n",
      "Training loss at step 52: 541.1 and 176.3 * (T = 3.274)\n",
      "Training loss at step 53: 545.0 and 178.5 * (T = 3.274)\n",
      "Training loss at step 54: 521.8 and 169.5 * (T = 3.274)\n",
      "Training loss at step 55: 533.9 and 174.3 * (T = 3.274)\n",
      "Training loss at step 56: 534.9 and 174.5 * (T = 3.274)\n",
      "Training loss at step 57: 546.0 and 178.5 * (T = 3.274)\n",
      "Training loss at step 58: 537.7 and 175.2 * (T = 3.274)\n",
      "Training loss at step 59: 544.6 and 177.7 * (T = 3.274)\n",
      "Training loss at step 60: 548.2 and 193.1 * (T = 3.008)\n",
      "Training loss at step 61: 538.8 and 189.0 * (T = 3.008)\n",
      "Training loss at step 62: 542.7 and 190.7 * (T = 3.008)\n",
      "Training loss at step 63: 537.1 and 188.7 * (T = 3.008)\n",
      "Training loss at step 64: 526.0 and 185.3 * (T = 3.008)\n",
      "Training loss at step 65: 530.1 and 187.6 * (T = 3.008)\n",
      "Training loss at step 66: 535.4 and 189.3 * (T = 3.008)\n",
      "Training loss at step 67: 535.5 and 189.6 * (T = 3.008)\n",
      "Training loss at step 68: 541.4 and 191.3 * (T = 3.008)\n",
      "Training loss at step 69: 542.8 and 192.0 * (T = 3.008)\n",
      "Training loss at step 70: 552.6 and 211.5 * (T = 2.763)\n",
      "Training loss at step 71: 526.1 and 200.4 * (T = 2.763)\n",
      "Training loss at step 72: 533.5 and 203.5 * (T = 2.763)\n",
      "Training loss at step 73: 539.7 and 206.2 * (T = 2.763)\n",
      "Training loss at step 74: 538.2 and 206.0 * (T = 2.763)\n",
      "Training loss at step 75: 535.7 and 204.8 * (T = 2.763)\n",
      "Training loss at step 76: 530.3 and 201.7 * (T = 2.763)\n",
      "Training loss at step 77: 528.8 and 201.0 * (T = 2.763)\n",
      "Training loss at step 78: 531.7 and 202.2 * (T = 2.763)\n",
      "Training loss at step 79: 526.0 and 200.4 * (T = 2.763)\n",
      "Training loss at step 80: 534.6 and 220.7 * (T = 2.539)\n",
      "Training loss at step 81: 534.5 and 220.7 * (T = 2.539)\n",
      "Training loss at step 82: 544.9 and 225.8 * (T = 2.539)\n",
      "Training loss at step 83: 528.2 and 218.4 * (T = 2.539)\n",
      "Training loss at step 84: 526.0 and 217.4 * (T = 2.539)\n",
      "Training loss at step 85: 530.7 and 220.2 * (T = 2.539)\n",
      "Training loss at step 86: 532.7 and 220.2 * (T = 2.539)\n",
      "Training loss at step 87: 537.1 and 222.3 * (T = 2.539)\n",
      "Training loss at step 88: 542.0 and 224.8 * (T = 2.539)\n",
      "Training loss at step 89: 537.7 and 222.7 * (T = 2.539)\n",
      "Training loss at step 90: 531.3 and 237.6 * (T = 2.333)\n",
      "Training loss at step 91: 534.3 and 238.8 * (T = 2.333)\n",
      "Training loss at step 92: 539.1 and 241.3 * (T = 2.333)\n",
      "Training loss at step 93: 525.3 and 234.9 * (T = 2.333)\n",
      "Training loss at step 94: 536.8 and 240.9 * (T = 2.333)\n",
      "Training loss at step 95: 534.4 and 239.6 * (T = 2.333)\n",
      "Training loss at step 96: 530.2 and 238.0 * (T = 2.333)\n",
      "Training loss at step 97: 527.8 and 236.1 * (T = 2.333)\n",
      "Training loss at step 98: 533.0 and 239.3 * (T = 2.333)\n",
      "Training loss at step 99: 531.6 and 237.9 * (T = 2.333)\n",
      "Training loss at step 100: 527.3 and 255.1 * (T = 2.143)\n",
      "Training loss at step 101: 526.1 and 254.8 * (T = 2.143)\n",
      "Training loss at step 102: 530.5 and 256.7 * (T = 2.143)\n",
      "Training loss at step 103: 515.5 and 249.6 * (T = 2.143)\n",
      "Training loss at step 104: 523.3 and 254.1 * (T = 2.143)\n",
      "Training loss at step 105: 529.8 and 257.2 * (T = 2.143)\n",
      "Training loss at step 106: 528.1 and 256.3 * (T = 2.143)\n",
      "Training loss at step 107: 532.4 and 258.3 * (T = 2.143)\n",
      "Training loss at step 108: 533.3 and 258.3 * (T = 2.143)\n",
      "Training loss at step 109: 531.4 and 257.4 * (T = 2.143)\n",
      "Training loss at step 110: 525.8 and 275.3 * (T = 1.969)\n",
      "Training loss at step 111: 525.7 and 274.9 * (T = 1.969)\n",
      "Training loss at step 112: 530.3 and 278.7 * (T = 1.969)\n",
      "Training loss at step 113: 532.2 and 280.2 * (T = 1.969)\n",
      "Training loss at step 114: 518.3 and 272.0 * (T = 1.969)\n",
      "Training loss at step 115: 520.1 and 273.6 * (T = 1.969)\n",
      "Training loss at step 116: 528.3 and 277.7 * (T = 1.969)\n",
      "Training loss at step 117: 530.5 and 278.5 * (T = 1.969)\n",
      "Training loss at step 118: 533.5 and 280.2 * (T = 1.969)\n",
      "Training loss at step 119: 536.3 and 281.3 * (T = 1.969)\n",
      "Training loss at step 120: 532.8 and 302.4 * (T = 1.809)\n",
      "Training loss at step 121: 520.3 and 295.3 * (T = 1.809)\n",
      "Training loss at step 122: 521.3 and 296.1 * (T = 1.809)\n",
      "Training loss at step 123: 533.2 and 304.1 * (T = 1.809)\n",
      "Training loss at step 124: 519.9 and 296.3 * (T = 1.809)\n",
      "Training loss at step 125: 520.8 and 296.3 * (T = 1.809)\n",
      "Training loss at step 126: 517.9 and 294.3 * (T = 1.809)\n",
      "Training loss at step 127: 529.6 and 301.1 * (T = 1.809)\n",
      "Training loss at step 128: 534.6 and 304.2 * (T = 1.809)\n",
      "Training loss at step 129: 534.3 and 303.8 * (T = 1.809)\n",
      "Training loss at step 130: 521.1 and 320.4 * (T = 1.662)\n",
      "Training loss at step 131: 532.5 and 328.1 * (T = 1.662)\n",
      "Training loss at step 132: 518.0 and 318.8 * (T = 1.662)\n",
      "Training loss at step 133: 525.4 and 324.0 * (T = 1.662)\n",
      "Training loss at step 134: 524.5 and 323.2 * (T = 1.662)\n",
      "Training loss at step 135: 530.8 and 327.4 * (T = 1.662)\n",
      "Training loss at step 136: 514.8 and 316.6 * (T = 1.662)\n",
      "Training loss at step 137: 515.5 and 317.6 * (T = 1.662)\n",
      "Training loss at step 138: 523.5 and 322.4 * (T = 1.662)\n",
      "Training loss at step 139: 525.7 and 323.7 * (T = 1.662)\n",
      "Training loss at step 140: 527.6 and 352.0 * (T = 1.527)\n",
      "Training loss at step 141: 522.4 and 348.5 * (T = 1.527)\n",
      "Training loss at step 142: 513.0 and 342.4 * (T = 1.527)\n",
      "Training loss at step 143: 528.2 and 352.9 * (T = 1.527)\n"
     ]
    }
   ],
   "source": [
    "flow, loss, loss_T = train_cond_model(flow, X=X_tensor, y=y_tensor, **params)\n",
    "flow.eval()"
   ],
   "metadata": {
    "collapsed": false,
    "is_executing": true,
    "ExecuteTime": {
     "start_time": "2023-08-30T16:34:53.699742063Z"
    }
   }
  },
  {
   "cell_type": "code",
   "execution_count": null,
   "outputs": [],
   "source": [
    "plt.figure(figsize=(10,5))\n",
    "plt.plot(range(len(loss)), loss, label='loss')\n",
    "# plt.plot(range(len(loss)), loss_T, label='loss_T')\n",
    "# plt.yscale(\"log\")\n",
    "plt.legend()\n",
    "plt.show()"
   ],
   "metadata": {
    "collapsed": false,
    "is_executing": true
   }
  },
  {
   "cell_type": "code",
   "execution_count": null,
   "outputs": [],
   "source": [
    "# samples_sorted, norm_sorted, kl_sorted = sample_beta(flow, X_tensor, y_tensor, sigma=params['sigma'], norm_min_exp=params['norm_min_exp'], \n",
    "#                                                       norm_max_exp=params['norm_max_exp'], context_size=1, sample_size=50, n_iter=100)plt.show()"
   ],
   "metadata": {
    "collapsed": false,
    "is_executing": true
   }
  },
  {
   "cell_type": "code",
   "execution_count": null,
   "outputs": [],
   "source": [
    "samples_sorted, norm_sorted, kl_sorted = sample_beta(flow, X_tensor, y_tensor, sigma=params['sigma'], norm_min=params['norm_min'], \n",
    "                                                      norm_max=params['norm_max'], context_size=1, sample_size=50, n_iter=500)"
   ],
   "metadata": {
    "collapsed": false,
    "is_executing": true
   }
  },
  {
   "cell_type": "code",
   "execution_count": null,
   "outputs": [],
   "source": [
    "def plot_betas_norm(samples_sorted, norm_sorted, a=0.95, folder_name='./'):\n",
    "    # alphas_ridge = np.logspace(-2,4,1000)\n",
    "    alphas_lasso = np.logspace(-4,2,1000)\n",
    "    beta_sklearn = np.array([Lasso(alpha=alpha, fit_intercept=False).fit(X_np, y_np).coef_ for alpha in tqdm.tqdm(alphas_lasso)])\n",
    "    # beta_sklearn = np.array([Ridge(alpha=alpha, fit_intercept=False).fit(X_np, y_np).coef_ for alpha in tqdm.tqdm(alphas_ridge)])\n",
    "    # sklearn_norm = np.abs(beta_sklearn).sum(1)\n",
    "    #sklearn_norm = np.sqrt(np.square(beta_sklearn).sum(1))\n",
    "    sklearn_norm = np.power(np.power(np.abs(beta_sklearn), 0.75).sum(1), 1/0.75)\n",
    "    #sklearn_norm /= sklearn_norm.max()\n",
    "    sklearn_sorted_idx = sklearn_norm.argsort()\n",
    "    sklearn_norm = sklearn_norm[sklearn_sorted_idx]\n",
    "    sklearn_sorted = beta_sklearn[sklearn_sorted_idx]\n",
    "    \n",
    "    l_quant = np.quantile(samples_sorted, 1-a, axis=1)\n",
    "    sample_mean = np.mean(samples_sorted, axis=1)\n",
    "    r_quant = np.quantile(samples_sorted, a, axis=1)\n",
    "    norm_sorted_ = norm_sorted / norm_sorted.max()\n",
    "    \n",
    "    clrs = sns.color_palette(\"husl\", flow_dim)\n",
    "    fig, ax = plt.subplots(figsize=(14,14))\n",
    "    with sns.axes_style(\"darkgrid\"):\n",
    "        for i in range(sample_mean.shape[-1]):\n",
    "            color = clrs[i % flow_dim]\n",
    "            ax.plot(norm_sorted, sample_mean[:,i], c=color, alpha=0.7, linewidth=1.5)\n",
    "            ax.fill_between(norm_sorted, l_quant[:,i], r_quant[:,i], alpha=0.2, facecolor=color)\n",
    "            ax.plot(sklearn_norm, sklearn_sorted[:,i], linestyle='--', linewidth=1.5, c=color, alpha=0.7)\n",
    "    \n",
    "        # ax.set_xscale('log')\n",
    "        plt.xlabel(r'$||\\beta||_1$', fontsize=18)\n",
    "        plt.ylabel(r'$\\beta$', fontsize=18)\n",
    "        plt.locator_params(axis='y', nbins=4)\n",
    "        plt.xticks(fontsize=12)\n",
    "        plt.yticks(fontsize=12)\n",
    "        #plt.xscale('log')\n",
    "        plt.savefig(f\"{folder_name}beta_norm_075_T_1.png\", dpi=200, bbox_inches='tight')\n",
    "        plt.show()"
   ],
   "metadata": {
    "collapsed": false,
    "is_executing": true
   }
  },
  {
   "cell_type": "code",
   "execution_count": null,
   "outputs": [],
   "source": [
    "idx = 450\n",
    "plot_betas_norm(samples_sorted[:idx], norm_sorted[:idx], a=0.95, folder_name=dir_name)"
   ],
   "metadata": {
    "collapsed": false,
    "is_executing": true
   }
  },
  {
   "cell_type": "code",
   "execution_count": 473,
   "outputs": [
    {
     "data": {
      "text/plain": "<Figure size 864x432 with 1 Axes>",
      "image/png": "[encoded data removed]"
     },
     "metadata": {
      "needs_background": "light"
     },
     "output_type": "display_data"
    }
   ],
   "source": [
    "a = .95\n",
    "log_lik = -kl_sorted\n",
    "fig, ax = plt.subplots(figsize=(12,6))\n",
    "l_quant = np.quantile(log_lik, 1-a, axis=1)\n",
    "log_lik_mean = np.mean(log_lik, axis=1)\n",
    "r_quant = np.quantile(log_lik, a, axis=1)\n",
    "ax.plot(norm_sorted, log_lik_mean)\n",
    "ax.fill_between(norm_sorted, l_quant, r_quant, alpha=0.2)\n",
    "idx_min = np.argmax(log_lik_mean)\n",
    "plt.vlines(norm_sorted[idx_min], ymin=min(log_lik_mean), ymax=max(log_lik_mean), color='r')\n",
    "# plt.xscale('log')\n",
    "plt.savefig(\"./plots/marginal_log_lik.png\", dpi=200)\n",
    "plt.show()"
   ],
   "metadata": {
    "collapsed": false,
    "ExecuteTime": {
     "end_time": "2023-08-30T15:53:34.382979140Z",
     "start_time": "2023-08-30T15:53:34.025097196Z"
    }
   }
  },
  {
   "cell_type": "code",
   "execution_count": 485,
   "outputs": [
    {
     "data": {
      "text/plain": "In addition: Warning message:\nIn (function (package, help, pos = 2, lib.loc = NULL, character.only = FALSE,  :\n  libraries ‘/usr/local/lib/R/site-library’, ‘/usr/lib/R/site-library’ contain no packages\n"
     },
     "metadata": {},
     "output_type": "display_data"
    },
    {
     "data": {
      "text/plain": "<Figure size 720x720 with 1 Axes>",
      "image/png": "[encoded data removed]"
     },
     "metadata": {
      "needs_background": "light"
     },
     "output_type": "display_data"
    },
    {
     "data": {
      "text/plain": "<Figure size 720x360 with 1 Axes>",
      "image/png": "[encoded data removed]"
     },
     "metadata": {
      "needs_background": "light"
     },
     "output_type": "display_data"
    }
   ],
   "source": [
    "from rpy2.robjects.packages import importr\n",
    "flow_dim = 3\n",
    "rpgnorm = importr('pgnorm')\n",
    "%R -i q -i flow_dim -i n_samples -o samples samples <- rpgnorm(n_samples * flow_dim, q)\n",
    "samples = np.array(samples).reshape(-1,flow_dim)\n",
    "samples_norm = lp_norm(samples, q)\n",
    "plt.figure(figsize=(10,10))\n",
    "plt.scatter(samples_norm[:n_samples_plot,0], samples_norm[:n_samples_plot,1], marker='.', alpha=0.3)\n",
    "plt.xlim(-1.1, 1.1)\n",
    "plt.ylim(-1.1, 1.1)\n",
    "ax = plt.gca()\n",
    "ax.set_aspect('equal', adjustable='box')\n",
    "plt.savefig(f\"{dir_name}samples_p{q}_gt.pdf\", dpi=100)\n",
    "plt.show()\n",
    "\n",
    "plt.figure(figsize=(10,5))\n",
    "theta_ = theta_given_x_y(samples_norm)\n",
    "n, bins, patches = plt.hist(theta_, bins=50)\n",
    "plt.vlines([-np.pi * 0.75, -np.pi * 0.25, np.pi * 0.25, np.pi * 0.75], ymin=0, ymax=max(n), linestyles='dashed', colors='r')\n",
    "plt.vlines([-np.pi, -np.pi * 0.5, 0, np.pi * 0.5, np.pi], ymin=0, ymax=max(n), linestyles='dashed', colors='b')\n",
    "plt.savefig(f\"{dir_name}samples_p{q}_theta_gt.pdf\", dpi=100)\n",
    "plt.show()"
   ],
   "metadata": {
    "collapsed": false,
    "ExecuteTime": {
     "start_time": "2023-08-25T09:31:17.587124360Z"
    }
   }
  },
  {
   "cell_type": "code",
   "execution_count": null,
   "outputs": [],
   "source": [],
   "metadata": {
    "collapsed": false
   }
  }
 ],
 "metadata": {
  "kernelspec": {
   "display_name": "Python 3",
   "language": "python",
   "name": "python3"
  },
  "language_info": {
   "codemirror_mode": {
    "name": "ipython",
    "version": 2
   },
   "file_extension": ".py",
   "mimetype": "text/x-python",
   "name": "python",
   "nbconvert_exporter": "python",
   "pygments_lexer": "ipython2",
   "version": "2.7.6"
  }
 },
 "nbformat": 4,
 "nbformat_minor": 0
}
